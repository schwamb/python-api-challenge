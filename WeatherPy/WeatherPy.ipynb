{
 "cells": [
  {
   "cell_type": "markdown",
   "metadata": {},
   "source": [
    "# WeatherPy\n",
    "----\n",
    "\n",
    "#### Note\n",
    "* Instructions have been included for each segment. You do not have to follow them exactly, but they are included to help you think through the steps."
   ]
  },
  {
   "cell_type": "code",
   "execution_count": 58,
   "metadata": {
    "scrolled": true
   },
   "outputs": [],
   "source": [
    "# Dependencies and Setup\n",
    "import matplotlib.pyplot as plt\n",
    "import pandas as pd\n",
    "import numpy as np\n",
    "import requests\n",
    "import time\n",
    "from scipy.stats import linregress\n",
    "import json\n",
    "\n",
    "# Import API key\n",
    "from api_keys import weather_api_key\n",
    "\n",
    "# Incorporated citipy to determine city based on latitude and longitude\n",
    "from citipy import citipy\n",
    "\n",
    "# Output File (CSV)\n",
    "output_data_file = \"output_data/cities.csv\"\n",
    "\n",
    "# Range of latitudes and longitudes\n",
    "lat_range = (-90, 90)\n",
    "lng_range = (-180, 180)"
   ]
  },
  {
   "cell_type": "markdown",
   "metadata": {},
   "source": [
    "## Generate Cities List"
   ]
  },
  {
   "cell_type": "code",
   "execution_count": 59,
   "metadata": {},
   "outputs": [
    {
     "data": {
      "text/plain": [
       "610"
      ]
     },
     "execution_count": 59,
     "metadata": {},
     "output_type": "execute_result"
    }
   ],
   "source": [
    "# List for holding lat_lngs and cities\n",
    "lat_lngs = []\n",
    "cities = []\n",
    "\n",
    "# Create a set of random lat and lng combinations\n",
    "lats = np.random.uniform(lat_range[0], lat_range[1], size=1500)\n",
    "lngs = np.random.uniform(lng_range[0], lng_range[1], size=1500)\n",
    "lat_lngs = zip(lats, lngs)\n",
    "\n",
    "# Identify nearest city for each lat, lng combination\n",
    "for lat_lng in lat_lngs:\n",
    "    city = citipy.nearest_city(lat_lng[0], lat_lng[1]).city_name\n",
    "    \n",
    "    # If the city is unique, then add it to a our cities list\n",
    "    if city not in cities:\n",
    "        cities.append(city)\n",
    "\n",
    "# Print the city count to confirm sufficient count\n",
    "len(cities)"
   ]
  },
  {
   "cell_type": "markdown",
   "metadata": {},
   "source": [
    "### Perform API Calls\n",
    "* Perform a weather check on each city using a series of successive API calls.\n",
    "* Include a print log of each city as it'sbeing processed (with the city number and city name).\n"
   ]
  },
  {
   "cell_type": "code",
   "execution_count": 60,
   "metadata": {
    "scrolled": true
   },
   "outputs": [
    {
     "name": "stdout",
     "output_type": "stream",
     "text": [
      "ushuaia with id 800 was found!\n",
      "new norfolk with id 800 was found!\n",
      "We can't find city: malwan.\n",
      "ribeira grande with id 804 was found!\n",
      "atuona with id 800 was found!\n",
      "kapaa with id 804 was found!\n",
      "cherskiy with id 800 was found!\n",
      "jamestown with id 600 was found!\n",
      "manama with id 721 was found!\n",
      "kodiak with id 600 was found!\n",
      "hofn with id 600 was found!\n",
      "khatanga with id 800 was found!\n",
      "donskoy with id 600 was found!\n",
      "makakilo city with id 800 was found!\n",
      "oleksandrivka with id 600 was found!\n",
      "beloha with id 501 was found!\n",
      "huron with id 804 was found!\n",
      "busselton with id 800 was found!\n",
      "cidreira with id 800 was found!\n",
      "rikitea with id 500 was found!\n",
      "We can't find city: nizhneyansk.\n",
      "ilulissat with id 800 was found!\n",
      "bluff with id 804 was found!\n",
      "punta arenas with id 800 was found!\n",
      "hobart with id 801 was found!\n",
      "ulladulla with id 803 was found!\n",
      "barrow with id 800 was found!\n",
      "colomiers with id 800 was found!\n",
      "luderitz with id 800 was found!\n",
      "We can't find city: taolanaro.\n",
      "We can't find city: ust-kamchatsk.\n",
      "We can't find city: illoqqortoormiut.\n",
      "albany with id 800 was found!\n",
      "ayna with id 804 was found!\n",
      "faya with id 800 was found!\n",
      "mahebourg with id 802 was found!\n",
      "grand gaube with id 801 was found!\n",
      "rongcheng with id 804 was found!\n",
      "faanui with id 500 was found!\n",
      "tuktoyaktuk with id 801 was found!\n",
      "mataura with id 500 was found!\n",
      "yellowknife with id 804 was found!\n",
      "pandan with id 804 was found!\n",
      "victoria with id 500 was found!\n",
      "hilo with id 500 was found!\n",
      "jibuti with id 701 was found!\n",
      "qaanaaq with id 800 was found!\n",
      "atar with id 800 was found!\n",
      "kupino with id 804 was found!\n",
      "sakakah with id 800 was found!\n",
      "san quintin with id 804 was found!\n",
      "hermanus with id 804 was found!\n",
      "yar-sale with id 804 was found!\n",
      "We can't find city: barentsburg.\n",
      "grafton with id 804 was found!\n",
      "ulaanbaatar with id 803 was found!\n",
      "upernavik with id 800 was found!\n",
      "alyangula with id 804 was found!\n",
      "dikson with id 804 was found!\n",
      "orumiyeh with id 800 was found!\n",
      "bonavista with id 600 was found!\n",
      "cabo san lucas with id 800 was found!\n",
      "port hardy with id 803 was found!\n",
      "ketchikan with id 801 was found!\n",
      "husavik with id 600 was found!\n",
      "vaini with id 501 was found!\n",
      "We can't find city: wulanhaote.\n",
      "megion with id 804 was found!\n",
      "vestmannaeyjar with id 804 was found!\n",
      "frankenberg with id 802 was found!\n",
      "We can't find city: amderma.\n",
      "dunedin with id 803 was found!\n",
      "floresta with id 804 was found!\n",
      "lebu with id 800 was found!\n",
      "port-gentil with id 802 was found!\n",
      "We can't find city: ituni.\n",
      "hithadhoo with id 803 was found!\n",
      "havoysund with id 600 was found!\n",
      "arraial do cabo with id 800 was found!\n",
      "We can't find city: mahadday weyne.\n",
      "olafsvik with id 600 was found!\n",
      "saint-philippe with id 800 was found!\n",
      "pangnirtung with id 800 was found!\n",
      "airai with id 804 was found!\n",
      "bay roberts with id 601 was found!\n",
      "tiksi with id 804 was found!\n",
      "ashland with id 800 was found!\n",
      "port hueneme with id 802 was found!\n",
      "buin with id 800 was found!\n",
      "butaritari with id 500 was found!\n",
      "longyearbyen with id 600 was found!\n",
      "glasgow with id 803 was found!\n",
      "We can't find city: umm ruwabah.\n",
      "chuy with id 800 was found!\n",
      "geraldton with id 803 was found!\n",
      "east london with id 800 was found!\n",
      "port alfred with id 800 was found!\n",
      "high rock with id 800 was found!\n",
      "port lincoln with id 800 was found!\n",
      "severnoye with id 804 was found!\n",
      "porto walter with id 500 was found!\n",
      "mar del plata with id 803 was found!\n",
      "grindavik with id 804 was found!\n",
      "saskylakh with id 800 was found!\n",
      "tura with id 803 was found!\n",
      "kavieng with id 803 was found!\n",
      "kabinda with id 804 was found!\n",
      "chacabuco with id 800 was found!\n",
      "We can't find city: palabuhanratu.\n",
      "ancud with id 800 was found!\n",
      "kentau with id 601 was found!\n",
      "ponta do sol with id 803 was found!\n",
      "uray with id 800 was found!\n",
      "dali with id 800 was found!\n",
      "korcula with id 804 was found!\n",
      "nagua with id 803 was found!\n",
      "We can't find city: stoyba.\n",
      "simpang with id 804 was found!\n",
      "tondon with id 800 was found!\n",
      "taldan with id 800 was found!\n",
      "shelburne with id 803 was found!\n",
      "ishigaki with id 803 was found!\n",
      "nikolskoye with id 804 was found!\n",
      "clyde river with id 600 was found!\n",
      "palomares with id 800 was found!\n",
      "aasiaat with id 800 was found!\n",
      "odweyne with id 802 was found!\n",
      "nelson with id 802 was found!\n",
      "vilhena with id 804 was found!\n",
      "varzea grande with id 801 was found!\n",
      "georgetown with id 801 was found!\n",
      "raahe with id 741 was found!\n",
      "shunyi with id 800 was found!\n",
      "saint-louis with id 802 was found!\n",
      "chapais with id 600 was found!\n",
      "kerrobert with id 601 was found!\n",
      "dalbandin with id 800 was found!\n",
      "We can't find city: tumannyy.\n",
      "We can't find city: mergui.\n",
      "We can't find city: belushya guba.\n",
      "seddon with id 800 was found!\n",
      "puerto ayora with id 803 was found!\n",
      "sunrise manor with id 800 was found!\n",
      "upington with id 800 was found!\n",
      "alekseyevka with id 804 was found!\n",
      "araouane with id 800 was found!\n",
      "baykit with id 804 was found!\n",
      "dharchula with id 804 was found!\n",
      "klaksvik with id 804 was found!\n",
      "kieta with id 501 was found!\n",
      "priargunsk with id 804 was found!\n",
      "narsaq with id 801 was found!\n",
      "laguna with id 804 was found!\n",
      "katsuura with id 803 was found!\n",
      "meulaboh with id 804 was found!\n",
      "chinhoyi with id 804 was found!\n",
      "te anau with id 501 was found!\n",
      "noumea with id 802 was found!\n",
      "eydhafushi with id 804 was found!\n",
      "anadyr with id 800 was found!\n",
      "guerrero negro with id 800 was found!\n",
      "aykhal with id 600 was found!\n",
      "slanic-moldova with id 701 was found!\n",
      "calama with id 800 was found!\n",
      "havre-saint-pierre with id 800 was found!\n",
      "pisco with id 800 was found!\n",
      "pevek with id 800 was found!\n",
      "vestmanna with id 803 was found!\n",
      "port blair with id 803 was found!\n",
      "porto novo with id 802 was found!\n",
      "fougamou with id 804 was found!\n",
      "bethel with id 803 was found!\n",
      "okhotsk with id 600 was found!\n",
      "bajil with id 800 was found!\n",
      "bambous virieux with id 802 was found!\n",
      "kalga with id 804 was found!\n",
      "thanh hoa with id 800 was found!\n",
      "cozumel with id 803 was found!\n",
      "kincardine with id 600 was found!\n",
      "usinsk with id 804 was found!\n",
      "erdenet with id 804 was found!\n",
      "bafoulabe with id 800 was found!\n",
      "inhambane with id 500 was found!\n",
      "kolyshley with id 804 was found!\n",
      "We can't find city: attawapiskat.\n",
      "kirakira with id 802 was found!\n",
      "thompson with id 802 was found!\n",
      "dalvik with id 600 was found!\n",
      "sitka with id 802 was found!\n",
      "pak phanang with id 801 was found!\n",
      "cape town with id 800 was found!\n",
      "tiarei with id 500 was found!\n",
      "tottori with id 803 was found!\n",
      "varazze with id 503 was found!\n",
      "chokurdakh with id 800 was found!\n",
      "san patricio with id 701 was found!\n",
      "los llanos de aridane with id 800 was found!\n",
      "carnarvon with id 800 was found!\n",
      "severo-kurilsk with id 804 was found!\n",
      "portland with id 801 was found!\n",
      "leh with id 804 was found!\n",
      "la victoria with id 802 was found!\n",
      "vardo with id 600 was found!\n",
      "moose factory with id 600 was found!\n",
      "castro with id 500 was found!\n",
      "hasaki with id 803 was found!\n",
      "chitral with id 800 was found!\n",
      "great falls with id 800 was found!\n",
      "haines junction with id 802 was found!\n",
      "tasiilaq with id 803 was found!\n",
      "muli with id 802 was found!\n",
      "anzio with id 804 was found!\n",
      "hailun with id 804 was found!\n",
      "kruisfontein with id 800 was found!\n",
      "luena with id 804 was found!\n",
      "horta with id 804 was found!\n",
      "harbour breton with id 800 was found!\n",
      "pangkalanbuun with id 803 was found!\n",
      "kholm with id 804 was found!\n",
      "port elizabeth with id 800 was found!\n",
      "zhongshu with id 800 was found!\n",
      "codrington with id 800 was found!\n",
      "serenje with id 804 was found!\n",
      "rypefjord with id 600 was found!\n",
      "We can't find city: naftah.\n",
      "la libertad with id 804 was found!\n",
      "jamame with id 803 was found!\n",
      "buraydah with id 804 was found!\n",
      "malartic with id 802 was found!\n",
      "walvis bay with id 803 was found!\n",
      "vao with id 801 was found!\n",
      "paamiut with id 804 was found!\n",
      "touros with id 803 was found!\n",
      "linares with id 800 was found!\n",
      "bredasdorp with id 804 was found!\n",
      "komatipoort with id 800 was found!\n",
      "enid with id 701 was found!\n",
      "leshukonskoye with id 804 was found!\n",
      "angoche with id 804 was found!\n",
      "lompoc with id 803 was found!\n",
      "oshakati with id 500 was found!\n",
      "tashla with id 600 was found!\n",
      "lasa with id 600 was found!\n",
      "saint-georges with id 801 was found!\n",
      "chipinge with id 804 was found!\n",
      "ballina with id 500 was found!\n",
      "palizada with id 800 was found!\n",
      "goundi with id 803 was found!\n",
      "sao joao da barra with id 501 was found!\n",
      "gravdal with id 804 was found!\n",
      "We can't find city: lolua.\n",
      "mareeba with id 802 was found!\n",
      "soledade with id 804 was found!\n",
      "chato with id 804 was found!\n",
      "petropavl with id 804 was found!\n",
      "santa maria del oro with id 800 was found!\n",
      "We can't find city: rungata.\n"
     ]
    },
    {
     "name": "stdout",
     "output_type": "stream",
     "text": [
      "sinnamary with id 803 was found!\n",
      "chilca with id 800 was found!\n",
      "galle with id 804 was found!\n",
      "amahai with id 802 was found!\n",
      "lorengau with id 500 was found!\n",
      "caravelas with id 804 was found!\n",
      "arauca with id 802 was found!\n",
      "pacific grove with id 804 was found!\n",
      "san cristobal with id 804 was found!\n",
      "mackay with id 803 was found!\n",
      "ola with id 804 was found!\n",
      "san jose with id 803 was found!\n",
      "sabang with id 800 was found!\n",
      "We can't find city: solsvik.\n",
      "denizli with id 803 was found!\n",
      "We can't find city: fevralsk.\n",
      "nelson bay with id 803 was found!\n",
      "san andres with id 803 was found!\n",
      "zhigansk with id 800 was found!\n",
      "saint george with id 801 was found!\n",
      "kaitangata with id 500 was found!\n",
      "torrijos with id 803 was found!\n",
      "nanortalik with id 800 was found!\n",
      "tingi with id 804 was found!\n",
      "nadym with id 800 was found!\n",
      "jefferson city with id 804 was found!\n",
      "We can't find city: dujuma.\n",
      "selma with id 804 was found!\n",
      "leon with id 800 was found!\n",
      "saint-leu with id 804 was found!\n",
      "balikpapan with id 802 was found!\n",
      "lavrentiya with id 800 was found!\n",
      "We can't find city: tsihombe.\n",
      "hirado with id 802 was found!\n",
      "saldanha with id 800 was found!\n",
      "santa marta with id 801 was found!\n",
      "zhanaozen with id 803 was found!\n",
      "bilma with id 800 was found!\n",
      "yulara with id 803 was found!\n",
      "nago with id 803 was found!\n",
      "esperance with id 802 was found!\n",
      "baruun-urt with id 804 was found!\n",
      "We can't find city: linchuan.\n",
      "robertsport with id 801 was found!\n",
      "bosaso with id 802 was found!\n",
      "novikovo with id 804 was found!\n",
      "coquimbo with id 802 was found!\n",
      "tepeojuma with id 801 was found!\n",
      "smithers with id 801 was found!\n",
      "mumford with id 802 was found!\n",
      "kisiwani with id 500 was found!\n",
      "jian with id 500 was found!\n",
      "gizo with id 803 was found!\n",
      "We can't find city: mentok.\n",
      "skelleftea with id 800 was found!\n",
      "We can't find city: saryshagan.\n",
      "kavaratti with id 800 was found!\n",
      "marsh harbour with id 800 was found!\n",
      "bathsheba with id 803 was found!\n",
      "valdosta with id 701 was found!\n",
      "iqaluit with id 800 was found!\n",
      "mehamn with id 600 was found!\n",
      "dobrinka with id 804 was found!\n",
      "mirwah with id 801 was found!\n",
      "lukulu with id 500 was found!\n",
      "xiuyan with id 802 was found!\n",
      "seymchan with id 803 was found!\n",
      "erenhot with id 800 was found!\n",
      "bengkulu with id 804 was found!\n",
      "west wendover with id 804 was found!\n",
      "oranjemund with id 800 was found!\n",
      "tupiza with id 804 was found!\n",
      "isangel with id 803 was found!\n",
      "kulhudhuffushi with id 803 was found!\n",
      "We can't find city: marcona.\n",
      "norman wells with id 801 was found!\n",
      "muros with id 801 was found!\n",
      "iwaki with id 801 was found!\n",
      "lethem with id 803 was found!\n",
      "maracana with id 500 was found!\n",
      "We can't find city: warqla.\n",
      "victor harbor with id 800 was found!\n",
      "rawatsar with id 800 was found!\n",
      "hamilton with id 721 was found!\n",
      "nanakuli with id 800 was found!\n",
      "inuvik with id 800 was found!\n",
      "paka with id 802 was found!\n",
      "We can't find city: grand river south east.\n",
      "verkhnyachka with id 600 was found!\n",
      "takoradi with id 803 was found!\n",
      "chara with id 804 was found!\n",
      "We can't find city: bocaranga.\n",
      "knyaginino with id 601 was found!\n",
      "luwuk with id 804 was found!\n",
      "emerald with id 803 was found!\n",
      "hambantota with id 803 was found!\n",
      "sorland with id 800 was found!\n",
      "fairbanks with id 800 was found!\n",
      "comodoro rivadavia with id 800 was found!\n",
      "ipilan with id 801 was found!\n",
      "columbus with id 804 was found!\n",
      "lesnoy with id 800 was found!\n",
      "tual with id 801 was found!\n",
      "ostrovnoy with id 804 was found!\n",
      "marsa matruh with id 802 was found!\n",
      "arvika with id 804 was found!\n",
      "boyolangu with id 500 was found!\n",
      "We can't find city: sentyabrskiy.\n",
      "kirovskiy with id 803 was found!\n",
      "torbay with id 601 was found!\n",
      "hervey bay with id 801 was found!\n",
      "puerto leguizamo with id 804 was found!\n",
      "ixtapa with id 802 was found!\n",
      "pueblo with id 804 was found!\n",
      "manaskent with id 741 was found!\n",
      "We can't find city: viligili.\n",
      "hami with id 804 was found!\n",
      "eureka with id 804 was found!\n",
      "honningsvag with id 600 was found!\n",
      "fasa with id 800 was found!\n",
      "colgong with id 801 was found!\n",
      "port hedland with id 803 was found!\n",
      "ungheni with id 804 was found!\n",
      "atambua with id 804 was found!\n",
      "praia with id 800 was found!\n",
      "manokwari with id 804 was found!\n",
      "beihai with id 802 was found!\n",
      "zhangjiakou with id 800 was found!\n",
      "taltal with id 800 was found!\n",
      "stavyshche with id 600 was found!\n",
      "gat with id 803 was found!\n",
      "barcelos with id 803 was found!\n",
      "bud with id 804 was found!\n",
      "turayf with id 800 was found!\n",
      "urusha with id 803 was found!\n",
      "alta floresta with id 800 was found!\n",
      "rocha with id 801 was found!\n",
      "nishihara with id 803 was found!\n",
      "diffa with id 800 was found!\n",
      "santa cruz with id 804 was found!\n",
      "We can't find city: hunza.\n",
      "ardesen with id 800 was found!\n",
      "alappuzha with id 800 was found!\n",
      "petropavlovsk-kamchatskiy with id 803 was found!\n",
      "lagoa with id 804 was found!\n",
      "kyzyl-suu with id 804 was found!\n",
      "richards bay with id 500 was found!\n",
      "bela with id 804 was found!\n",
      "egvekinot with id 800 was found!\n",
      "yarmouth with id 600 was found!\n",
      "avarua with id 500 was found!\n",
      "nizhniy baskunchak with id 804 was found!\n",
      "beinamar with id 804 was found!\n",
      "kumluca with id 802 was found!\n",
      "mama with id 600 was found!\n",
      "aguimes with id 800 was found!\n",
      "coahuayana with id 802 was found!\n",
      "knysna with id 803 was found!\n",
      "berlevag with id 600 was found!\n",
      "plettenberg bay with id 801 was found!\n",
      "outjo with id 500 was found!\n",
      "luganville with id 804 was found!\n",
      "talnakh with id 804 was found!\n",
      "suntar with id 804 was found!\n",
      "We can't find city: samusu.\n",
      "We can't find city: phan rang.\n",
      "huescar with id 803 was found!\n",
      "matara with id 804 was found!\n",
      "We can't find city: pingchen.\n",
      "tigil with id 800 was found!\n",
      "vanimo with id 804 was found!\n",
      "genhe with id 804 was found!\n",
      "maryville with id 803 was found!\n",
      "barybino with id 600 was found!\n",
      "We can't find city: samalaeulu.\n",
      "miri with id 801 was found!\n",
      "bakchar with id 804 was found!\n",
      "ghanzi with id 501 was found!\n",
      "sabanitas with id 801 was found!\n",
      "broken hill with id 800 was found!\n",
      "mayo with id 804 was found!\n",
      "cranbrook with id 801 was found!\n",
      "veinticinco de mayo with id 800 was found!\n",
      "abbeville with id 804 was found!\n",
      "beneditinos with id 800 was found!\n",
      "elizabeth city with id 800 was found!\n",
      "tuatapere with id 804 was found!\n",
      "la rochelle with id 803 was found!\n",
      "concordia with id 803 was found!\n",
      "We can't find city: nguiu.\n",
      "athabasca with id 804 was found!\n",
      "vila velha with id 804 was found!\n",
      "kamenka with id 804 was found!\n",
      "igurubi with id 804 was found!\n",
      "maniitsoq with id 800 was found!\n"
     ]
    },
    {
     "ename": "ConnectionError",
     "evalue": "('Connection aborted.', ConnectionResetError(10054, 'An existing connection was forcibly closed by the remote host', None, 10054, None))",
     "output_type": "error",
     "traceback": [
      "\u001b[1;31m---------------------------------------------------------------------------\u001b[0m",
      "\u001b[1;31mConnectionResetError\u001b[0m                      Traceback (most recent call last)",
      "\u001b[1;32m~\\anaconda3\\lib\\site-packages\\urllib3\\connectionpool.py\u001b[0m in \u001b[0;36murlopen\u001b[1;34m(self, method, url, body, headers, retries, redirect, assert_same_host, timeout, pool_timeout, release_conn, chunked, body_pos, **response_kw)\u001b[0m\n\u001b[0;32m    669\u001b[0m             \u001b[1;31m# Make the request on the httplib connection object.\u001b[0m\u001b[1;33m\u001b[0m\u001b[1;33m\u001b[0m\u001b[1;33m\u001b[0m\u001b[0m\n\u001b[1;32m--> 670\u001b[1;33m             httplib_response = self._make_request(\n\u001b[0m\u001b[0;32m    671\u001b[0m                 \u001b[0mconn\u001b[0m\u001b[1;33m,\u001b[0m\u001b[1;33m\u001b[0m\u001b[1;33m\u001b[0m\u001b[0m\n",
      "\u001b[1;32m~\\anaconda3\\lib\\site-packages\\urllib3\\connectionpool.py\u001b[0m in \u001b[0;36m_make_request\u001b[1;34m(self, conn, method, url, timeout, chunked, **httplib_request_kw)\u001b[0m\n\u001b[0;32m    425\u001b[0m                     \u001b[1;31m# Otherwise it looks like a bug in the code.\u001b[0m\u001b[1;33m\u001b[0m\u001b[1;33m\u001b[0m\u001b[1;33m\u001b[0m\u001b[0m\n\u001b[1;32m--> 426\u001b[1;33m                     \u001b[0msix\u001b[0m\u001b[1;33m.\u001b[0m\u001b[0mraise_from\u001b[0m\u001b[1;33m(\u001b[0m\u001b[0me\u001b[0m\u001b[1;33m,\u001b[0m \u001b[1;32mNone\u001b[0m\u001b[1;33m)\u001b[0m\u001b[1;33m\u001b[0m\u001b[1;33m\u001b[0m\u001b[0m\n\u001b[0m\u001b[0;32m    427\u001b[0m         \u001b[1;32mexcept\u001b[0m \u001b[1;33m(\u001b[0m\u001b[0mSocketTimeout\u001b[0m\u001b[1;33m,\u001b[0m \u001b[0mBaseSSLError\u001b[0m\u001b[1;33m,\u001b[0m \u001b[0mSocketError\u001b[0m\u001b[1;33m)\u001b[0m \u001b[1;32mas\u001b[0m \u001b[0me\u001b[0m\u001b[1;33m:\u001b[0m\u001b[1;33m\u001b[0m\u001b[1;33m\u001b[0m\u001b[0m\n",
      "\u001b[1;32m~\\anaconda3\\lib\\site-packages\\urllib3\\packages\\six.py\u001b[0m in \u001b[0;36mraise_from\u001b[1;34m(value, from_value)\u001b[0m\n",
      "\u001b[1;32m~\\anaconda3\\lib\\site-packages\\urllib3\\connectionpool.py\u001b[0m in \u001b[0;36m_make_request\u001b[1;34m(self, conn, method, url, timeout, chunked, **httplib_request_kw)\u001b[0m\n\u001b[0;32m    420\u001b[0m                 \u001b[1;32mtry\u001b[0m\u001b[1;33m:\u001b[0m\u001b[1;33m\u001b[0m\u001b[1;33m\u001b[0m\u001b[0m\n\u001b[1;32m--> 421\u001b[1;33m                     \u001b[0mhttplib_response\u001b[0m \u001b[1;33m=\u001b[0m \u001b[0mconn\u001b[0m\u001b[1;33m.\u001b[0m\u001b[0mgetresponse\u001b[0m\u001b[1;33m(\u001b[0m\u001b[1;33m)\u001b[0m\u001b[1;33m\u001b[0m\u001b[1;33m\u001b[0m\u001b[0m\n\u001b[0m\u001b[0;32m    422\u001b[0m                 \u001b[1;32mexcept\u001b[0m \u001b[0mBaseException\u001b[0m \u001b[1;32mas\u001b[0m \u001b[0me\u001b[0m\u001b[1;33m:\u001b[0m\u001b[1;33m\u001b[0m\u001b[1;33m\u001b[0m\u001b[0m\n",
      "\u001b[1;32m~\\anaconda3\\lib\\http\\client.py\u001b[0m in \u001b[0;36mgetresponse\u001b[1;34m(self)\u001b[0m\n\u001b[0;32m   1331\u001b[0m             \u001b[1;32mtry\u001b[0m\u001b[1;33m:\u001b[0m\u001b[1;33m\u001b[0m\u001b[1;33m\u001b[0m\u001b[0m\n\u001b[1;32m-> 1332\u001b[1;33m                 \u001b[0mresponse\u001b[0m\u001b[1;33m.\u001b[0m\u001b[0mbegin\u001b[0m\u001b[1;33m(\u001b[0m\u001b[1;33m)\u001b[0m\u001b[1;33m\u001b[0m\u001b[1;33m\u001b[0m\u001b[0m\n\u001b[0m\u001b[0;32m   1333\u001b[0m             \u001b[1;32mexcept\u001b[0m \u001b[0mConnectionError\u001b[0m\u001b[1;33m:\u001b[0m\u001b[1;33m\u001b[0m\u001b[1;33m\u001b[0m\u001b[0m\n",
      "\u001b[1;32m~\\anaconda3\\lib\\http\\client.py\u001b[0m in \u001b[0;36mbegin\u001b[1;34m(self)\u001b[0m\n\u001b[0;32m    302\u001b[0m         \u001b[1;32mwhile\u001b[0m \u001b[1;32mTrue\u001b[0m\u001b[1;33m:\u001b[0m\u001b[1;33m\u001b[0m\u001b[1;33m\u001b[0m\u001b[0m\n\u001b[1;32m--> 303\u001b[1;33m             \u001b[0mversion\u001b[0m\u001b[1;33m,\u001b[0m \u001b[0mstatus\u001b[0m\u001b[1;33m,\u001b[0m \u001b[0mreason\u001b[0m \u001b[1;33m=\u001b[0m \u001b[0mself\u001b[0m\u001b[1;33m.\u001b[0m\u001b[0m_read_status\u001b[0m\u001b[1;33m(\u001b[0m\u001b[1;33m)\u001b[0m\u001b[1;33m\u001b[0m\u001b[1;33m\u001b[0m\u001b[0m\n\u001b[0m\u001b[0;32m    304\u001b[0m             \u001b[1;32mif\u001b[0m \u001b[0mstatus\u001b[0m \u001b[1;33m!=\u001b[0m \u001b[0mCONTINUE\u001b[0m\u001b[1;33m:\u001b[0m\u001b[1;33m\u001b[0m\u001b[1;33m\u001b[0m\u001b[0m\n",
      "\u001b[1;32m~\\anaconda3\\lib\\http\\client.py\u001b[0m in \u001b[0;36m_read_status\u001b[1;34m(self)\u001b[0m\n\u001b[0;32m    263\u001b[0m     \u001b[1;32mdef\u001b[0m \u001b[0m_read_status\u001b[0m\u001b[1;33m(\u001b[0m\u001b[0mself\u001b[0m\u001b[1;33m)\u001b[0m\u001b[1;33m:\u001b[0m\u001b[1;33m\u001b[0m\u001b[1;33m\u001b[0m\u001b[0m\n\u001b[1;32m--> 264\u001b[1;33m         \u001b[0mline\u001b[0m \u001b[1;33m=\u001b[0m \u001b[0mstr\u001b[0m\u001b[1;33m(\u001b[0m\u001b[0mself\u001b[0m\u001b[1;33m.\u001b[0m\u001b[0mfp\u001b[0m\u001b[1;33m.\u001b[0m\u001b[0mreadline\u001b[0m\u001b[1;33m(\u001b[0m\u001b[0m_MAXLINE\u001b[0m \u001b[1;33m+\u001b[0m \u001b[1;36m1\u001b[0m\u001b[1;33m)\u001b[0m\u001b[1;33m,\u001b[0m \u001b[1;34m\"iso-8859-1\"\u001b[0m\u001b[1;33m)\u001b[0m\u001b[1;33m\u001b[0m\u001b[1;33m\u001b[0m\u001b[0m\n\u001b[0m\u001b[0;32m    265\u001b[0m         \u001b[1;32mif\u001b[0m \u001b[0mlen\u001b[0m\u001b[1;33m(\u001b[0m\u001b[0mline\u001b[0m\u001b[1;33m)\u001b[0m \u001b[1;33m>\u001b[0m \u001b[0m_MAXLINE\u001b[0m\u001b[1;33m:\u001b[0m\u001b[1;33m\u001b[0m\u001b[1;33m\u001b[0m\u001b[0m\n",
      "\u001b[1;32m~\\anaconda3\\lib\\socket.py\u001b[0m in \u001b[0;36mreadinto\u001b[1;34m(self, b)\u001b[0m\n\u001b[0;32m    668\u001b[0m             \u001b[1;32mtry\u001b[0m\u001b[1;33m:\u001b[0m\u001b[1;33m\u001b[0m\u001b[1;33m\u001b[0m\u001b[0m\n\u001b[1;32m--> 669\u001b[1;33m                 \u001b[1;32mreturn\u001b[0m \u001b[0mself\u001b[0m\u001b[1;33m.\u001b[0m\u001b[0m_sock\u001b[0m\u001b[1;33m.\u001b[0m\u001b[0mrecv_into\u001b[0m\u001b[1;33m(\u001b[0m\u001b[0mb\u001b[0m\u001b[1;33m)\u001b[0m\u001b[1;33m\u001b[0m\u001b[1;33m\u001b[0m\u001b[0m\n\u001b[0m\u001b[0;32m    670\u001b[0m             \u001b[1;32mexcept\u001b[0m \u001b[0mtimeout\u001b[0m\u001b[1;33m:\u001b[0m\u001b[1;33m\u001b[0m\u001b[1;33m\u001b[0m\u001b[0m\n",
      "\u001b[1;31mConnectionResetError\u001b[0m: [WinError 10054] An existing connection was forcibly closed by the remote host",
      "\nDuring handling of the above exception, another exception occurred:\n",
      "\u001b[1;31mProtocolError\u001b[0m                             Traceback (most recent call last)",
      "\u001b[1;32m~\\anaconda3\\lib\\site-packages\\requests\\adapters.py\u001b[0m in \u001b[0;36msend\u001b[1;34m(self, request, stream, timeout, verify, cert, proxies)\u001b[0m\n\u001b[0;32m    438\u001b[0m             \u001b[1;32mif\u001b[0m \u001b[1;32mnot\u001b[0m \u001b[0mchunked\u001b[0m\u001b[1;33m:\u001b[0m\u001b[1;33m\u001b[0m\u001b[1;33m\u001b[0m\u001b[0m\n\u001b[1;32m--> 439\u001b[1;33m                 resp = conn.urlopen(\n\u001b[0m\u001b[0;32m    440\u001b[0m                     \u001b[0mmethod\u001b[0m\u001b[1;33m=\u001b[0m\u001b[0mrequest\u001b[0m\u001b[1;33m.\u001b[0m\u001b[0mmethod\u001b[0m\u001b[1;33m,\u001b[0m\u001b[1;33m\u001b[0m\u001b[1;33m\u001b[0m\u001b[0m\n",
      "\u001b[1;32m~\\anaconda3\\lib\\site-packages\\urllib3\\connectionpool.py\u001b[0m in \u001b[0;36murlopen\u001b[1;34m(self, method, url, body, headers, retries, redirect, assert_same_host, timeout, pool_timeout, release_conn, chunked, body_pos, **response_kw)\u001b[0m\n\u001b[0;32m    723\u001b[0m \u001b[1;33m\u001b[0m\u001b[0m\n\u001b[1;32m--> 724\u001b[1;33m             retries = retries.increment(\n\u001b[0m\u001b[0;32m    725\u001b[0m                 \u001b[0mmethod\u001b[0m\u001b[1;33m,\u001b[0m \u001b[0murl\u001b[0m\u001b[1;33m,\u001b[0m \u001b[0merror\u001b[0m\u001b[1;33m=\u001b[0m\u001b[0me\u001b[0m\u001b[1;33m,\u001b[0m \u001b[0m_pool\u001b[0m\u001b[1;33m=\u001b[0m\u001b[0mself\u001b[0m\u001b[1;33m,\u001b[0m \u001b[0m_stacktrace\u001b[0m\u001b[1;33m=\u001b[0m\u001b[0msys\u001b[0m\u001b[1;33m.\u001b[0m\u001b[0mexc_info\u001b[0m\u001b[1;33m(\u001b[0m\u001b[1;33m)\u001b[0m\u001b[1;33m[\u001b[0m\u001b[1;36m2\u001b[0m\u001b[1;33m]\u001b[0m\u001b[1;33m\u001b[0m\u001b[1;33m\u001b[0m\u001b[0m\n",
      "\u001b[1;32m~\\anaconda3\\lib\\site-packages\\urllib3\\util\\retry.py\u001b[0m in \u001b[0;36mincrement\u001b[1;34m(self, method, url, response, error, _pool, _stacktrace)\u001b[0m\n\u001b[0;32m    402\u001b[0m             \u001b[1;32mif\u001b[0m \u001b[0mread\u001b[0m \u001b[1;32mis\u001b[0m \u001b[1;32mFalse\u001b[0m \u001b[1;32mor\u001b[0m \u001b[1;32mnot\u001b[0m \u001b[0mself\u001b[0m\u001b[1;33m.\u001b[0m\u001b[0m_is_method_retryable\u001b[0m\u001b[1;33m(\u001b[0m\u001b[0mmethod\u001b[0m\u001b[1;33m)\u001b[0m\u001b[1;33m:\u001b[0m\u001b[1;33m\u001b[0m\u001b[1;33m\u001b[0m\u001b[0m\n\u001b[1;32m--> 403\u001b[1;33m                 \u001b[1;32mraise\u001b[0m \u001b[0msix\u001b[0m\u001b[1;33m.\u001b[0m\u001b[0mreraise\u001b[0m\u001b[1;33m(\u001b[0m\u001b[0mtype\u001b[0m\u001b[1;33m(\u001b[0m\u001b[0merror\u001b[0m\u001b[1;33m)\u001b[0m\u001b[1;33m,\u001b[0m \u001b[0merror\u001b[0m\u001b[1;33m,\u001b[0m \u001b[0m_stacktrace\u001b[0m\u001b[1;33m)\u001b[0m\u001b[1;33m\u001b[0m\u001b[1;33m\u001b[0m\u001b[0m\n\u001b[0m\u001b[0;32m    404\u001b[0m             \u001b[1;32melif\u001b[0m \u001b[0mread\u001b[0m \u001b[1;32mis\u001b[0m \u001b[1;32mnot\u001b[0m \u001b[1;32mNone\u001b[0m\u001b[1;33m:\u001b[0m\u001b[1;33m\u001b[0m\u001b[1;33m\u001b[0m\u001b[0m\n",
      "\u001b[1;32m~\\anaconda3\\lib\\site-packages\\urllib3\\packages\\six.py\u001b[0m in \u001b[0;36mreraise\u001b[1;34m(tp, value, tb)\u001b[0m\n\u001b[0;32m    733\u001b[0m             \u001b[1;32mif\u001b[0m \u001b[0mvalue\u001b[0m\u001b[1;33m.\u001b[0m\u001b[0m__traceback__\u001b[0m \u001b[1;32mis\u001b[0m \u001b[1;32mnot\u001b[0m \u001b[0mtb\u001b[0m\u001b[1;33m:\u001b[0m\u001b[1;33m\u001b[0m\u001b[1;33m\u001b[0m\u001b[0m\n\u001b[1;32m--> 734\u001b[1;33m                 \u001b[1;32mraise\u001b[0m \u001b[0mvalue\u001b[0m\u001b[1;33m.\u001b[0m\u001b[0mwith_traceback\u001b[0m\u001b[1;33m(\u001b[0m\u001b[0mtb\u001b[0m\u001b[1;33m)\u001b[0m\u001b[1;33m\u001b[0m\u001b[1;33m\u001b[0m\u001b[0m\n\u001b[0m\u001b[0;32m    735\u001b[0m             \u001b[1;32mraise\u001b[0m \u001b[0mvalue\u001b[0m\u001b[1;33m\u001b[0m\u001b[1;33m\u001b[0m\u001b[0m\n",
      "\u001b[1;32m~\\anaconda3\\lib\\site-packages\\urllib3\\connectionpool.py\u001b[0m in \u001b[0;36murlopen\u001b[1;34m(self, method, url, body, headers, retries, redirect, assert_same_host, timeout, pool_timeout, release_conn, chunked, body_pos, **response_kw)\u001b[0m\n\u001b[0;32m    669\u001b[0m             \u001b[1;31m# Make the request on the httplib connection object.\u001b[0m\u001b[1;33m\u001b[0m\u001b[1;33m\u001b[0m\u001b[1;33m\u001b[0m\u001b[0m\n\u001b[1;32m--> 670\u001b[1;33m             httplib_response = self._make_request(\n\u001b[0m\u001b[0;32m    671\u001b[0m                 \u001b[0mconn\u001b[0m\u001b[1;33m,\u001b[0m\u001b[1;33m\u001b[0m\u001b[1;33m\u001b[0m\u001b[0m\n",
      "\u001b[1;32m~\\anaconda3\\lib\\site-packages\\urllib3\\connectionpool.py\u001b[0m in \u001b[0;36m_make_request\u001b[1;34m(self, conn, method, url, timeout, chunked, **httplib_request_kw)\u001b[0m\n\u001b[0;32m    425\u001b[0m                     \u001b[1;31m# Otherwise it looks like a bug in the code.\u001b[0m\u001b[1;33m\u001b[0m\u001b[1;33m\u001b[0m\u001b[1;33m\u001b[0m\u001b[0m\n\u001b[1;32m--> 426\u001b[1;33m                     \u001b[0msix\u001b[0m\u001b[1;33m.\u001b[0m\u001b[0mraise_from\u001b[0m\u001b[1;33m(\u001b[0m\u001b[0me\u001b[0m\u001b[1;33m,\u001b[0m \u001b[1;32mNone\u001b[0m\u001b[1;33m)\u001b[0m\u001b[1;33m\u001b[0m\u001b[1;33m\u001b[0m\u001b[0m\n\u001b[0m\u001b[0;32m    427\u001b[0m         \u001b[1;32mexcept\u001b[0m \u001b[1;33m(\u001b[0m\u001b[0mSocketTimeout\u001b[0m\u001b[1;33m,\u001b[0m \u001b[0mBaseSSLError\u001b[0m\u001b[1;33m,\u001b[0m \u001b[0mSocketError\u001b[0m\u001b[1;33m)\u001b[0m \u001b[1;32mas\u001b[0m \u001b[0me\u001b[0m\u001b[1;33m:\u001b[0m\u001b[1;33m\u001b[0m\u001b[1;33m\u001b[0m\u001b[0m\n",
      "\u001b[1;32m~\\anaconda3\\lib\\site-packages\\urllib3\\packages\\six.py\u001b[0m in \u001b[0;36mraise_from\u001b[1;34m(value, from_value)\u001b[0m\n",
      "\u001b[1;32m~\\anaconda3\\lib\\site-packages\\urllib3\\connectionpool.py\u001b[0m in \u001b[0;36m_make_request\u001b[1;34m(self, conn, method, url, timeout, chunked, **httplib_request_kw)\u001b[0m\n\u001b[0;32m    420\u001b[0m                 \u001b[1;32mtry\u001b[0m\u001b[1;33m:\u001b[0m\u001b[1;33m\u001b[0m\u001b[1;33m\u001b[0m\u001b[0m\n\u001b[1;32m--> 421\u001b[1;33m                     \u001b[0mhttplib_response\u001b[0m \u001b[1;33m=\u001b[0m \u001b[0mconn\u001b[0m\u001b[1;33m.\u001b[0m\u001b[0mgetresponse\u001b[0m\u001b[1;33m(\u001b[0m\u001b[1;33m)\u001b[0m\u001b[1;33m\u001b[0m\u001b[1;33m\u001b[0m\u001b[0m\n\u001b[0m\u001b[0;32m    422\u001b[0m                 \u001b[1;32mexcept\u001b[0m \u001b[0mBaseException\u001b[0m \u001b[1;32mas\u001b[0m \u001b[0me\u001b[0m\u001b[1;33m:\u001b[0m\u001b[1;33m\u001b[0m\u001b[1;33m\u001b[0m\u001b[0m\n",
      "\u001b[1;32m~\\anaconda3\\lib\\http\\client.py\u001b[0m in \u001b[0;36mgetresponse\u001b[1;34m(self)\u001b[0m\n\u001b[0;32m   1331\u001b[0m             \u001b[1;32mtry\u001b[0m\u001b[1;33m:\u001b[0m\u001b[1;33m\u001b[0m\u001b[1;33m\u001b[0m\u001b[0m\n\u001b[1;32m-> 1332\u001b[1;33m                 \u001b[0mresponse\u001b[0m\u001b[1;33m.\u001b[0m\u001b[0mbegin\u001b[0m\u001b[1;33m(\u001b[0m\u001b[1;33m)\u001b[0m\u001b[1;33m\u001b[0m\u001b[1;33m\u001b[0m\u001b[0m\n\u001b[0m\u001b[0;32m   1333\u001b[0m             \u001b[1;32mexcept\u001b[0m \u001b[0mConnectionError\u001b[0m\u001b[1;33m:\u001b[0m\u001b[1;33m\u001b[0m\u001b[1;33m\u001b[0m\u001b[0m\n",
      "\u001b[1;32m~\\anaconda3\\lib\\http\\client.py\u001b[0m in \u001b[0;36mbegin\u001b[1;34m(self)\u001b[0m\n\u001b[0;32m    302\u001b[0m         \u001b[1;32mwhile\u001b[0m \u001b[1;32mTrue\u001b[0m\u001b[1;33m:\u001b[0m\u001b[1;33m\u001b[0m\u001b[1;33m\u001b[0m\u001b[0m\n\u001b[1;32m--> 303\u001b[1;33m             \u001b[0mversion\u001b[0m\u001b[1;33m,\u001b[0m \u001b[0mstatus\u001b[0m\u001b[1;33m,\u001b[0m \u001b[0mreason\u001b[0m \u001b[1;33m=\u001b[0m \u001b[0mself\u001b[0m\u001b[1;33m.\u001b[0m\u001b[0m_read_status\u001b[0m\u001b[1;33m(\u001b[0m\u001b[1;33m)\u001b[0m\u001b[1;33m\u001b[0m\u001b[1;33m\u001b[0m\u001b[0m\n\u001b[0m\u001b[0;32m    304\u001b[0m             \u001b[1;32mif\u001b[0m \u001b[0mstatus\u001b[0m \u001b[1;33m!=\u001b[0m \u001b[0mCONTINUE\u001b[0m\u001b[1;33m:\u001b[0m\u001b[1;33m\u001b[0m\u001b[1;33m\u001b[0m\u001b[0m\n",
      "\u001b[1;32m~\\anaconda3\\lib\\http\\client.py\u001b[0m in \u001b[0;36m_read_status\u001b[1;34m(self)\u001b[0m\n\u001b[0;32m    263\u001b[0m     \u001b[1;32mdef\u001b[0m \u001b[0m_read_status\u001b[0m\u001b[1;33m(\u001b[0m\u001b[0mself\u001b[0m\u001b[1;33m)\u001b[0m\u001b[1;33m:\u001b[0m\u001b[1;33m\u001b[0m\u001b[1;33m\u001b[0m\u001b[0m\n\u001b[1;32m--> 264\u001b[1;33m         \u001b[0mline\u001b[0m \u001b[1;33m=\u001b[0m \u001b[0mstr\u001b[0m\u001b[1;33m(\u001b[0m\u001b[0mself\u001b[0m\u001b[1;33m.\u001b[0m\u001b[0mfp\u001b[0m\u001b[1;33m.\u001b[0m\u001b[0mreadline\u001b[0m\u001b[1;33m(\u001b[0m\u001b[0m_MAXLINE\u001b[0m \u001b[1;33m+\u001b[0m \u001b[1;36m1\u001b[0m\u001b[1;33m)\u001b[0m\u001b[1;33m,\u001b[0m \u001b[1;34m\"iso-8859-1\"\u001b[0m\u001b[1;33m)\u001b[0m\u001b[1;33m\u001b[0m\u001b[1;33m\u001b[0m\u001b[0m\n\u001b[0m\u001b[0;32m    265\u001b[0m         \u001b[1;32mif\u001b[0m \u001b[0mlen\u001b[0m\u001b[1;33m(\u001b[0m\u001b[0mline\u001b[0m\u001b[1;33m)\u001b[0m \u001b[1;33m>\u001b[0m \u001b[0m_MAXLINE\u001b[0m\u001b[1;33m:\u001b[0m\u001b[1;33m\u001b[0m\u001b[1;33m\u001b[0m\u001b[0m\n",
      "\u001b[1;32m~\\anaconda3\\lib\\socket.py\u001b[0m in \u001b[0;36mreadinto\u001b[1;34m(self, b)\u001b[0m\n\u001b[0;32m    668\u001b[0m             \u001b[1;32mtry\u001b[0m\u001b[1;33m:\u001b[0m\u001b[1;33m\u001b[0m\u001b[1;33m\u001b[0m\u001b[0m\n\u001b[1;32m--> 669\u001b[1;33m                 \u001b[1;32mreturn\u001b[0m \u001b[0mself\u001b[0m\u001b[1;33m.\u001b[0m\u001b[0m_sock\u001b[0m\u001b[1;33m.\u001b[0m\u001b[0mrecv_into\u001b[0m\u001b[1;33m(\u001b[0m\u001b[0mb\u001b[0m\u001b[1;33m)\u001b[0m\u001b[1;33m\u001b[0m\u001b[1;33m\u001b[0m\u001b[0m\n\u001b[0m\u001b[0;32m    670\u001b[0m             \u001b[1;32mexcept\u001b[0m \u001b[0mtimeout\u001b[0m\u001b[1;33m:\u001b[0m\u001b[1;33m\u001b[0m\u001b[1;33m\u001b[0m\u001b[0m\n",
      "\u001b[1;31mProtocolError\u001b[0m: ('Connection aborted.', ConnectionResetError(10054, 'An existing connection was forcibly closed by the remote host', None, 10054, None))",
      "\nDuring handling of the above exception, another exception occurred:\n",
      "\u001b[1;31mConnectionError\u001b[0m                           Traceback (most recent call last)",
      "\u001b[1;32m<ipython-input-60-80466507a051>\u001b[0m in \u001b[0;36m<module>\u001b[1;34m\u001b[0m\n\u001b[0;32m     17\u001b[0m \u001b[1;32mfor\u001b[0m \u001b[0mcity\u001b[0m \u001b[1;32min\u001b[0m \u001b[0mcities\u001b[0m\u001b[1;33m:\u001b[0m\u001b[1;33m\u001b[0m\u001b[1;33m\u001b[0m\u001b[0m\n\u001b[0;32m     18\u001b[0m     \u001b[1;32mtry\u001b[0m\u001b[1;33m:\u001b[0m\u001b[1;33m\u001b[0m\u001b[1;33m\u001b[0m\u001b[0m\n\u001b[1;32m---> 19\u001b[1;33m         \u001b[0mweather_response\u001b[0m \u001b[1;33m=\u001b[0m \u001b[0mrequests\u001b[0m\u001b[1;33m.\u001b[0m\u001b[0mget\u001b[0m\u001b[1;33m(\u001b[0m\u001b[0mquery_url\u001b[0m \u001b[1;33m+\u001b[0m \u001b[0mcity\u001b[0m\u001b[1;33m)\u001b[0m\u001b[1;33m.\u001b[0m\u001b[0mjson\u001b[0m\u001b[1;33m(\u001b[0m\u001b[1;33m)\u001b[0m\u001b[1;33m\u001b[0m\u001b[1;33m\u001b[0m\u001b[0m\n\u001b[0m\u001b[0;32m     20\u001b[0m         \u001b[0mgood_city\u001b[0m\u001b[1;33m.\u001b[0m\u001b[0mappend\u001b[0m\u001b[1;33m(\u001b[0m\u001b[0mweather_response\u001b[0m\u001b[1;33m[\u001b[0m\u001b[1;34m'name'\u001b[0m\u001b[1;33m]\u001b[0m\u001b[1;33m)\u001b[0m\u001b[1;33m\u001b[0m\u001b[1;33m\u001b[0m\u001b[0m\n\u001b[0;32m     21\u001b[0m         \u001b[0mcity_id\u001b[0m\u001b[1;33m.\u001b[0m\u001b[0mappend\u001b[0m\u001b[1;33m(\u001b[0m\u001b[0mweather_response\u001b[0m\u001b[1;33m[\u001b[0m\u001b[1;34m'weather'\u001b[0m\u001b[1;33m]\u001b[0m\u001b[1;33m[\u001b[0m\u001b[1;36m0\u001b[0m\u001b[1;33m]\u001b[0m\u001b[1;33m[\u001b[0m\u001b[1;34m'id'\u001b[0m\u001b[1;33m]\u001b[0m\u001b[1;33m)\u001b[0m\u001b[1;33m\u001b[0m\u001b[1;33m\u001b[0m\u001b[0m\n",
      "\u001b[1;32m~\\anaconda3\\lib\\site-packages\\requests\\api.py\u001b[0m in \u001b[0;36mget\u001b[1;34m(url, params, **kwargs)\u001b[0m\n\u001b[0;32m     74\u001b[0m \u001b[1;33m\u001b[0m\u001b[0m\n\u001b[0;32m     75\u001b[0m     \u001b[0mkwargs\u001b[0m\u001b[1;33m.\u001b[0m\u001b[0msetdefault\u001b[0m\u001b[1;33m(\u001b[0m\u001b[1;34m'allow_redirects'\u001b[0m\u001b[1;33m,\u001b[0m \u001b[1;32mTrue\u001b[0m\u001b[1;33m)\u001b[0m\u001b[1;33m\u001b[0m\u001b[1;33m\u001b[0m\u001b[0m\n\u001b[1;32m---> 76\u001b[1;33m     \u001b[1;32mreturn\u001b[0m \u001b[0mrequest\u001b[0m\u001b[1;33m(\u001b[0m\u001b[1;34m'get'\u001b[0m\u001b[1;33m,\u001b[0m \u001b[0murl\u001b[0m\u001b[1;33m,\u001b[0m \u001b[0mparams\u001b[0m\u001b[1;33m=\u001b[0m\u001b[0mparams\u001b[0m\u001b[1;33m,\u001b[0m \u001b[1;33m**\u001b[0m\u001b[0mkwargs\u001b[0m\u001b[1;33m)\u001b[0m\u001b[1;33m\u001b[0m\u001b[1;33m\u001b[0m\u001b[0m\n\u001b[0m\u001b[0;32m     77\u001b[0m \u001b[1;33m\u001b[0m\u001b[0m\n\u001b[0;32m     78\u001b[0m \u001b[1;33m\u001b[0m\u001b[0m\n",
      "\u001b[1;32m~\\anaconda3\\lib\\site-packages\\requests\\api.py\u001b[0m in \u001b[0;36mrequest\u001b[1;34m(method, url, **kwargs)\u001b[0m\n\u001b[0;32m     59\u001b[0m     \u001b[1;31m# cases, and look like a memory leak in others.\u001b[0m\u001b[1;33m\u001b[0m\u001b[1;33m\u001b[0m\u001b[1;33m\u001b[0m\u001b[0m\n\u001b[0;32m     60\u001b[0m     \u001b[1;32mwith\u001b[0m \u001b[0msessions\u001b[0m\u001b[1;33m.\u001b[0m\u001b[0mSession\u001b[0m\u001b[1;33m(\u001b[0m\u001b[1;33m)\u001b[0m \u001b[1;32mas\u001b[0m \u001b[0msession\u001b[0m\u001b[1;33m:\u001b[0m\u001b[1;33m\u001b[0m\u001b[1;33m\u001b[0m\u001b[0m\n\u001b[1;32m---> 61\u001b[1;33m         \u001b[1;32mreturn\u001b[0m \u001b[0msession\u001b[0m\u001b[1;33m.\u001b[0m\u001b[0mrequest\u001b[0m\u001b[1;33m(\u001b[0m\u001b[0mmethod\u001b[0m\u001b[1;33m=\u001b[0m\u001b[0mmethod\u001b[0m\u001b[1;33m,\u001b[0m \u001b[0murl\u001b[0m\u001b[1;33m=\u001b[0m\u001b[0murl\u001b[0m\u001b[1;33m,\u001b[0m \u001b[1;33m**\u001b[0m\u001b[0mkwargs\u001b[0m\u001b[1;33m)\u001b[0m\u001b[1;33m\u001b[0m\u001b[1;33m\u001b[0m\u001b[0m\n\u001b[0m\u001b[0;32m     62\u001b[0m \u001b[1;33m\u001b[0m\u001b[0m\n\u001b[0;32m     63\u001b[0m \u001b[1;33m\u001b[0m\u001b[0m\n",
      "\u001b[1;32m~\\anaconda3\\lib\\site-packages\\requests\\sessions.py\u001b[0m in \u001b[0;36mrequest\u001b[1;34m(self, method, url, params, data, headers, cookies, files, auth, timeout, allow_redirects, proxies, hooks, stream, verify, cert, json)\u001b[0m\n\u001b[0;32m    528\u001b[0m         }\n\u001b[0;32m    529\u001b[0m         \u001b[0msend_kwargs\u001b[0m\u001b[1;33m.\u001b[0m\u001b[0mupdate\u001b[0m\u001b[1;33m(\u001b[0m\u001b[0msettings\u001b[0m\u001b[1;33m)\u001b[0m\u001b[1;33m\u001b[0m\u001b[1;33m\u001b[0m\u001b[0m\n\u001b[1;32m--> 530\u001b[1;33m         \u001b[0mresp\u001b[0m \u001b[1;33m=\u001b[0m \u001b[0mself\u001b[0m\u001b[1;33m.\u001b[0m\u001b[0msend\u001b[0m\u001b[1;33m(\u001b[0m\u001b[0mprep\u001b[0m\u001b[1;33m,\u001b[0m \u001b[1;33m**\u001b[0m\u001b[0msend_kwargs\u001b[0m\u001b[1;33m)\u001b[0m\u001b[1;33m\u001b[0m\u001b[1;33m\u001b[0m\u001b[0m\n\u001b[0m\u001b[0;32m    531\u001b[0m \u001b[1;33m\u001b[0m\u001b[0m\n\u001b[0;32m    532\u001b[0m         \u001b[1;32mreturn\u001b[0m \u001b[0mresp\u001b[0m\u001b[1;33m\u001b[0m\u001b[1;33m\u001b[0m\u001b[0m\n",
      "\u001b[1;32m~\\anaconda3\\lib\\site-packages\\requests\\sessions.py\u001b[0m in \u001b[0;36msend\u001b[1;34m(self, request, **kwargs)\u001b[0m\n\u001b[0;32m    641\u001b[0m \u001b[1;33m\u001b[0m\u001b[0m\n\u001b[0;32m    642\u001b[0m         \u001b[1;31m# Send the request\u001b[0m\u001b[1;33m\u001b[0m\u001b[1;33m\u001b[0m\u001b[1;33m\u001b[0m\u001b[0m\n\u001b[1;32m--> 643\u001b[1;33m         \u001b[0mr\u001b[0m \u001b[1;33m=\u001b[0m \u001b[0madapter\u001b[0m\u001b[1;33m.\u001b[0m\u001b[0msend\u001b[0m\u001b[1;33m(\u001b[0m\u001b[0mrequest\u001b[0m\u001b[1;33m,\u001b[0m \u001b[1;33m**\u001b[0m\u001b[0mkwargs\u001b[0m\u001b[1;33m)\u001b[0m\u001b[1;33m\u001b[0m\u001b[1;33m\u001b[0m\u001b[0m\n\u001b[0m\u001b[0;32m    644\u001b[0m \u001b[1;33m\u001b[0m\u001b[0m\n\u001b[0;32m    645\u001b[0m         \u001b[1;31m# Total elapsed time of the request (approximately)\u001b[0m\u001b[1;33m\u001b[0m\u001b[1;33m\u001b[0m\u001b[1;33m\u001b[0m\u001b[0m\n",
      "\u001b[1;32m~\\anaconda3\\lib\\site-packages\\requests\\adapters.py\u001b[0m in \u001b[0;36msend\u001b[1;34m(self, request, stream, timeout, verify, cert, proxies)\u001b[0m\n\u001b[0;32m    496\u001b[0m \u001b[1;33m\u001b[0m\u001b[0m\n\u001b[0;32m    497\u001b[0m         \u001b[1;32mexcept\u001b[0m \u001b[1;33m(\u001b[0m\u001b[0mProtocolError\u001b[0m\u001b[1;33m,\u001b[0m \u001b[0msocket\u001b[0m\u001b[1;33m.\u001b[0m\u001b[0merror\u001b[0m\u001b[1;33m)\u001b[0m \u001b[1;32mas\u001b[0m \u001b[0merr\u001b[0m\u001b[1;33m:\u001b[0m\u001b[1;33m\u001b[0m\u001b[1;33m\u001b[0m\u001b[0m\n\u001b[1;32m--> 498\u001b[1;33m             \u001b[1;32mraise\u001b[0m \u001b[0mConnectionError\u001b[0m\u001b[1;33m(\u001b[0m\u001b[0merr\u001b[0m\u001b[1;33m,\u001b[0m \u001b[0mrequest\u001b[0m\u001b[1;33m=\u001b[0m\u001b[0mrequest\u001b[0m\u001b[1;33m)\u001b[0m\u001b[1;33m\u001b[0m\u001b[1;33m\u001b[0m\u001b[0m\n\u001b[0m\u001b[0;32m    499\u001b[0m \u001b[1;33m\u001b[0m\u001b[0m\n\u001b[0;32m    500\u001b[0m         \u001b[1;32mexcept\u001b[0m \u001b[0mMaxRetryError\u001b[0m \u001b[1;32mas\u001b[0m \u001b[0me\u001b[0m\u001b[1;33m:\u001b[0m\u001b[1;33m\u001b[0m\u001b[1;33m\u001b[0m\u001b[0m\n",
      "\u001b[1;31mConnectionError\u001b[0m: ('Connection aborted.', ConnectionResetError(10054, 'An existing connection was forcibly closed by the remote host', None, 10054, None))"
     ]
    }
   ],
   "source": [
    "url = \"http://api.openweathermap.org/data/2.5/weather?\"\n",
    "lat = []\n",
    "lng = []\n",
    "temp = []\n",
    "humidity = []\n",
    "cloudiness = []\n",
    "wind = []\n",
    "country = []\n",
    "date = []\n",
    "city_id=[]\n",
    "good_city=[]\n",
    "no_city = []\n",
    "\n",
    "units = \"metric\"\n",
    "query_url = f\"{url}appid={weather_api_key}&units={units}&q=\"\n",
    "\n",
    "for city in cities:\n",
    "    try:\n",
    "        weather_response = requests.get(query_url + city).json()\n",
    "        good_city.append(weather_response['name'])\n",
    "        city_id.append(weather_response['weather'][0]['id'])\n",
    "        city_id_var = weather_response['weather'][0]['id']\n",
    "        print(f'{city} with id {city_id_var} was found!')\n",
    "        lat.append(weather_response[\"coord\"][\"lat\"])\n",
    "        lng.append(weather_response[\"coord\"]['lon'])\n",
    "        temp.append(weather_response['main']['temp_max'])\n",
    "        humidity.append(weather_response['main']['humidity'])\n",
    "        cloudiness.append(weather_response['clouds']['all'])\n",
    "        wind.append(weather_response['wind']['speed'])\n",
    "        country.append(weather_response['sys']['country'])\n",
    "        date.append(weather_response['dt'])\n",
    "        \n",
    "    except KeyError:\n",
    "        print(f\"We can't find city: {city}.\")\n",
    "        if city not in no_city:\n",
    "            no_city.append(city)\n"
   ]
  },
  {
   "cell_type": "markdown",
   "metadata": {},
   "source": [
    "### Convert Raw Data to DataFrame\n",
    "* Export the city data into a .csv.\n",
    "* Display the DataFrame"
   ]
  },
  {
   "cell_type": "code",
   "execution_count": 84,
   "metadata": {},
   "outputs": [
    {
     "data": {
      "text/html": [
       "<div>\n",
       "<style scoped>\n",
       "    .dataframe tbody tr th:only-of-type {\n",
       "        vertical-align: middle;\n",
       "    }\n",
       "\n",
       "    .dataframe tbody tr th {\n",
       "        vertical-align: top;\n",
       "    }\n",
       "\n",
       "    .dataframe thead th {\n",
       "        text-align: right;\n",
       "    }\n",
       "</style>\n",
       "<table border=\"1\" class=\"dataframe\">\n",
       "  <thead>\n",
       "    <tr style=\"text-align: right;\">\n",
       "      <th></th>\n",
       "      <th>City</th>\n",
       "      <th>Lat</th>\n",
       "      <th>Lng</th>\n",
       "      <th>Max Temp</th>\n",
       "      <th>Humidity</th>\n",
       "      <th>Cloudiness</th>\n",
       "      <th>Wind Speed</th>\n",
       "      <th>Country</th>\n",
       "      <th>Date</th>\n",
       "    </tr>\n",
       "  </thead>\n",
       "  <tbody>\n",
       "    <tr>\n",
       "      <th>0</th>\n",
       "      <td>Ushuaia</td>\n",
       "      <td>-54.8000</td>\n",
       "      <td>-68.3000</td>\n",
       "      <td>19.00</td>\n",
       "      <td>68</td>\n",
       "      <td>0</td>\n",
       "      <td>1.03</td>\n",
       "      <td>AR</td>\n",
       "      <td>1612921963</td>\n",
       "    </tr>\n",
       "    <tr>\n",
       "      <th>1</th>\n",
       "      <td>New Norfolk</td>\n",
       "      <td>-42.7826</td>\n",
       "      <td>147.0587</td>\n",
       "      <td>21.67</td>\n",
       "      <td>42</td>\n",
       "      <td>0</td>\n",
       "      <td>1.34</td>\n",
       "      <td>AU</td>\n",
       "      <td>1612922789</td>\n",
       "    </tr>\n",
       "    <tr>\n",
       "      <th>2</th>\n",
       "      <td>Ribeira Grande</td>\n",
       "      <td>38.5167</td>\n",
       "      <td>-28.7000</td>\n",
       "      <td>15.68</td>\n",
       "      <td>85</td>\n",
       "      <td>100</td>\n",
       "      <td>7.25</td>\n",
       "      <td>PT</td>\n",
       "      <td>1612922789</td>\n",
       "    </tr>\n",
       "    <tr>\n",
       "      <th>3</th>\n",
       "      <td>Atuona</td>\n",
       "      <td>-9.8000</td>\n",
       "      <td>-139.0333</td>\n",
       "      <td>26.42</td>\n",
       "      <td>74</td>\n",
       "      <td>0</td>\n",
       "      <td>7.68</td>\n",
       "      <td>PF</td>\n",
       "      <td>1612922789</td>\n",
       "    </tr>\n",
       "    <tr>\n",
       "      <th>4</th>\n",
       "      <td>Kapaa</td>\n",
       "      <td>22.0752</td>\n",
       "      <td>-159.3190</td>\n",
       "      <td>22.00</td>\n",
       "      <td>53</td>\n",
       "      <td>90</td>\n",
       "      <td>8.75</td>\n",
       "      <td>US</td>\n",
       "      <td>1612921962</td>\n",
       "    </tr>\n",
       "    <tr>\n",
       "      <th>...</th>\n",
       "      <td>...</td>\n",
       "      <td>...</td>\n",
       "      <td>...</td>\n",
       "      <td>...</td>\n",
       "      <td>...</td>\n",
       "      <td>...</td>\n",
       "      <td>...</td>\n",
       "      <td>...</td>\n",
       "      <td>...</td>\n",
       "    </tr>\n",
       "    <tr>\n",
       "      <th>408</th>\n",
       "      <td>Athabasca</td>\n",
       "      <td>54.7169</td>\n",
       "      <td>-113.2854</td>\n",
       "      <td>-26.00</td>\n",
       "      <td>63</td>\n",
       "      <td>100</td>\n",
       "      <td>5.14</td>\n",
       "      <td>CA</td>\n",
       "      <td>1612922703</td>\n",
       "    </tr>\n",
       "    <tr>\n",
       "      <th>409</th>\n",
       "      <td>Vila Velha</td>\n",
       "      <td>-20.3297</td>\n",
       "      <td>-40.2925</td>\n",
       "      <td>25.56</td>\n",
       "      <td>94</td>\n",
       "      <td>90</td>\n",
       "      <td>1.54</td>\n",
       "      <td>BR</td>\n",
       "      <td>1612922843</td>\n",
       "    </tr>\n",
       "    <tr>\n",
       "      <th>410</th>\n",
       "      <td>Kamenka</td>\n",
       "      <td>51.3223</td>\n",
       "      <td>42.7678</td>\n",
       "      <td>-10.56</td>\n",
       "      <td>90</td>\n",
       "      <td>93</td>\n",
       "      <td>3.77</td>\n",
       "      <td>RU</td>\n",
       "      <td>1612922843</td>\n",
       "    </tr>\n",
       "    <tr>\n",
       "      <th>411</th>\n",
       "      <td>Igurubi</td>\n",
       "      <td>-4.0000</td>\n",
       "      <td>33.7000</td>\n",
       "      <td>19.42</td>\n",
       "      <td>80</td>\n",
       "      <td>100</td>\n",
       "      <td>1.99</td>\n",
       "      <td>TZ</td>\n",
       "      <td>1612922843</td>\n",
       "    </tr>\n",
       "    <tr>\n",
       "      <th>412</th>\n",
       "      <td>Maniitsoq</td>\n",
       "      <td>65.4167</td>\n",
       "      <td>-52.9000</td>\n",
       "      <td>-6.65</td>\n",
       "      <td>83</td>\n",
       "      <td>0</td>\n",
       "      <td>2.65</td>\n",
       "      <td>GL</td>\n",
       "      <td>1612922843</td>\n",
       "    </tr>\n",
       "  </tbody>\n",
       "</table>\n",
       "<p>413 rows × 9 columns</p>\n",
       "</div>"
      ],
      "text/plain": [
       "               City      Lat       Lng  Max Temp  Humidity  Cloudiness  \\\n",
       "0           Ushuaia -54.8000  -68.3000     19.00        68           0   \n",
       "1       New Norfolk -42.7826  147.0587     21.67        42           0   \n",
       "2    Ribeira Grande  38.5167  -28.7000     15.68        85         100   \n",
       "3            Atuona  -9.8000 -139.0333     26.42        74           0   \n",
       "4             Kapaa  22.0752 -159.3190     22.00        53          90   \n",
       "..              ...      ...       ...       ...       ...         ...   \n",
       "408       Athabasca  54.7169 -113.2854    -26.00        63         100   \n",
       "409      Vila Velha -20.3297  -40.2925     25.56        94          90   \n",
       "410         Kamenka  51.3223   42.7678    -10.56        90          93   \n",
       "411         Igurubi  -4.0000   33.7000     19.42        80         100   \n",
       "412       Maniitsoq  65.4167  -52.9000     -6.65        83           0   \n",
       "\n",
       "     Wind Speed Country        Date  \n",
       "0          1.03      AR  1612921963  \n",
       "1          1.34      AU  1612922789  \n",
       "2          7.25      PT  1612922789  \n",
       "3          7.68      PF  1612922789  \n",
       "4          8.75      US  1612921962  \n",
       "..          ...     ...         ...  \n",
       "408        5.14      CA  1612922703  \n",
       "409        1.54      BR  1612922843  \n",
       "410        3.77      RU  1612922843  \n",
       "411        1.99      TZ  1612922843  \n",
       "412        2.65      GL  1612922843  \n",
       "\n",
       "[413 rows x 9 columns]"
      ]
     },
     "execution_count": 84,
     "metadata": {},
     "output_type": "execute_result"
    }
   ],
   "source": [
    "weather_dict = {\n",
    "    \"City\": good_city,\n",
    "    \"Lat\": lat,\n",
    "    \"Lng\": lng,\n",
    "    \"Max Temp\": temp,\n",
    "    \"Humidity\": humidity,\n",
    "    \"Cloudiness\": cloudiness,\n",
    "    \"Wind Speed\": wind,\n",
    "    \"Country\": country,\n",
    "    \"Date\": date\n",
    "}\n",
    "weather_data = pd.DataFrame(weather_dict)\n",
    "\n",
    "\n",
    "weather_data.to_csv(\"Output/Weather.csv\", index = False)\n",
    "weather_data"
   ]
  },
  {
   "cell_type": "code",
   "execution_count": 67,
   "metadata": {},
   "outputs": [
    {
     "data": {
      "text/html": [
       "<div>\n",
       "<style scoped>\n",
       "    .dataframe tbody tr th:only-of-type {\n",
       "        vertical-align: middle;\n",
       "    }\n",
       "\n",
       "    .dataframe tbody tr th {\n",
       "        vertical-align: top;\n",
       "    }\n",
       "\n",
       "    .dataframe thead th {\n",
       "        text-align: right;\n",
       "    }\n",
       "</style>\n",
       "<table border=\"1\" class=\"dataframe\">\n",
       "  <thead>\n",
       "    <tr style=\"text-align: right;\">\n",
       "      <th></th>\n",
       "      <th>Lat</th>\n",
       "      <th>Lng</th>\n",
       "      <th>Max Temp</th>\n",
       "      <th>Humidity</th>\n",
       "      <th>Cloudiness</th>\n",
       "      <th>Wind Speed</th>\n",
       "      <th>Date</th>\n",
       "    </tr>\n",
       "  </thead>\n",
       "  <tbody>\n",
       "    <tr>\n",
       "      <th>count</th>\n",
       "      <td>413.000000</td>\n",
       "      <td>413.000000</td>\n",
       "      <td>413.000000</td>\n",
       "      <td>413.000000</td>\n",
       "      <td>413.000000</td>\n",
       "      <td>413.000000</td>\n",
       "      <td>4.130000e+02</td>\n",
       "    </tr>\n",
       "    <tr>\n",
       "      <th>mean</th>\n",
       "      <td>20.424861</td>\n",
       "      <td>16.406895</td>\n",
       "      <td>8.640194</td>\n",
       "      <td>76.121065</td>\n",
       "      <td>54.920097</td>\n",
       "      <td>3.467918</td>\n",
       "      <td>1.612923e+09</td>\n",
       "    </tr>\n",
       "    <tr>\n",
       "      <th>std</th>\n",
       "      <td>34.692791</td>\n",
       "      <td>90.948216</td>\n",
       "      <td>17.817447</td>\n",
       "      <td>17.695780</td>\n",
       "      <td>40.839502</td>\n",
       "      <td>2.538426</td>\n",
       "      <td>1.755514e+02</td>\n",
       "    </tr>\n",
       "    <tr>\n",
       "      <th>min</th>\n",
       "      <td>-54.800000</td>\n",
       "      <td>-179.166700</td>\n",
       "      <td>-39.000000</td>\n",
       "      <td>18.000000</td>\n",
       "      <td>0.000000</td>\n",
       "      <td>0.080000</td>\n",
       "      <td>1.612922e+09</td>\n",
       "    </tr>\n",
       "    <tr>\n",
       "      <th>25%</th>\n",
       "      <td>-9.106100</td>\n",
       "      <td>-65.712500</td>\n",
       "      <td>-4.910000</td>\n",
       "      <td>69.000000</td>\n",
       "      <td>4.000000</td>\n",
       "      <td>1.540000</td>\n",
       "      <td>1.612923e+09</td>\n",
       "    </tr>\n",
       "    <tr>\n",
       "      <th>50%</th>\n",
       "      <td>26.184200</td>\n",
       "      <td>23.666700</td>\n",
       "      <td>15.080000</td>\n",
       "      <td>82.000000</td>\n",
       "      <td>75.000000</td>\n",
       "      <td>2.820000</td>\n",
       "      <td>1.612923e+09</td>\n",
       "    </tr>\n",
       "    <tr>\n",
       "      <th>75%</th>\n",
       "      <td>50.233400</td>\n",
       "      <td>96.370000</td>\n",
       "      <td>23.420000</td>\n",
       "      <td>88.000000</td>\n",
       "      <td>96.000000</td>\n",
       "      <td>4.640000</td>\n",
       "      <td>1.612923e+09</td>\n",
       "    </tr>\n",
       "    <tr>\n",
       "      <th>max</th>\n",
       "      <td>78.218600</td>\n",
       "      <td>177.483300</td>\n",
       "      <td>34.000000</td>\n",
       "      <td>100.000000</td>\n",
       "      <td>100.000000</td>\n",
       "      <td>15.000000</td>\n",
       "      <td>1.612923e+09</td>\n",
       "    </tr>\n",
       "  </tbody>\n",
       "</table>\n",
       "</div>"
      ],
      "text/plain": [
       "              Lat         Lng    Max Temp    Humidity  Cloudiness  Wind Speed  \\\n",
       "count  413.000000  413.000000  413.000000  413.000000  413.000000  413.000000   \n",
       "mean    20.424861   16.406895    8.640194   76.121065   54.920097    3.467918   \n",
       "std     34.692791   90.948216   17.817447   17.695780   40.839502    2.538426   \n",
       "min    -54.800000 -179.166700  -39.000000   18.000000    0.000000    0.080000   \n",
       "25%     -9.106100  -65.712500   -4.910000   69.000000    4.000000    1.540000   \n",
       "50%     26.184200   23.666700   15.080000   82.000000   75.000000    2.820000   \n",
       "75%     50.233400   96.370000   23.420000   88.000000   96.000000    4.640000   \n",
       "max     78.218600  177.483300   34.000000  100.000000  100.000000   15.000000   \n",
       "\n",
       "               Date  \n",
       "count  4.130000e+02  \n",
       "mean   1.612923e+09  \n",
       "std    1.755514e+02  \n",
       "min    1.612922e+09  \n",
       "25%    1.612923e+09  \n",
       "50%    1.612923e+09  \n",
       "75%    1.612923e+09  \n",
       "max    1.612923e+09  "
      ]
     },
     "execution_count": 67,
     "metadata": {},
     "output_type": "execute_result"
    }
   ],
   "source": [
    "weather_data.describe()"
   ]
  },
  {
   "cell_type": "markdown",
   "metadata": {},
   "source": [
    "## Inspect the data and remove the cities where the humidity > 100%.\n",
    "----\n",
    "Skip this step if there are no cities that have humidity > 100%. "
   ]
  },
  {
   "cell_type": "code",
   "execution_count": 69,
   "metadata": {},
   "outputs": [
    {
     "data": {
      "text/html": [
       "<div>\n",
       "<style scoped>\n",
       "    .dataframe tbody tr th:only-of-type {\n",
       "        vertical-align: middle;\n",
       "    }\n",
       "\n",
       "    .dataframe tbody tr th {\n",
       "        vertical-align: top;\n",
       "    }\n",
       "\n",
       "    .dataframe thead th {\n",
       "        text-align: right;\n",
       "    }\n",
       "</style>\n",
       "<table border=\"1\" class=\"dataframe\">\n",
       "  <thead>\n",
       "    <tr style=\"text-align: right;\">\n",
       "      <th></th>\n",
       "      <th>City</th>\n",
       "      <th>Lat</th>\n",
       "      <th>Lng</th>\n",
       "      <th>Max Temp</th>\n",
       "      <th>Humidity</th>\n",
       "      <th>Cloudiness</th>\n",
       "      <th>Wind Speed</th>\n",
       "      <th>Country</th>\n",
       "      <th>Date</th>\n",
       "    </tr>\n",
       "  </thead>\n",
       "  <tbody>\n",
       "  </tbody>\n",
       "</table>\n",
       "</div>"
      ],
      "text/plain": [
       "Empty DataFrame\n",
       "Columns: [City, Lat, Lng, Max Temp, Humidity, Cloudiness, Wind Speed, Country, Date]\n",
       "Index: []"
      ]
     },
     "execution_count": 69,
     "metadata": {},
     "output_type": "execute_result"
    }
   ],
   "source": [
    "weather_data[weather_data['Humidity'] > 100] "
   ]
  },
  {
   "cell_type": "code",
   "execution_count": 70,
   "metadata": {},
   "outputs": [],
   "source": [
    "#  Get the indices of cities that have humidity over 100%.\n"
   ]
  },
  {
   "cell_type": "code",
   "execution_count": 71,
   "metadata": {},
   "outputs": [],
   "source": [
    "# Make a new DataFrame equal to the city data to drop all humidity outliers by index.\n",
    "# Passing \"inplace=False\" will make a copy of the city_data DataFrame, which we call \"clean_city_data\".\n"
   ]
  },
  {
   "cell_type": "code",
   "execution_count": null,
   "metadata": {},
   "outputs": [],
   "source": [
    "\n"
   ]
  },
  {
   "cell_type": "markdown",
   "metadata": {},
   "source": [
    "## Plotting the Data\n",
    "* Use proper labeling of the plots using plot titles (including date of analysis) and axes labels.\n",
    "* Save the plotted figures as .pngs."
   ]
  },
  {
   "cell_type": "markdown",
   "metadata": {},
   "source": [
    "## Latitude vs. Temperature Plot"
   ]
  },
  {
   "cell_type": "code",
   "execution_count": 72,
   "metadata": {
    "scrolled": true
   },
   "outputs": [
    {
     "data": {
      "image/png": "[encoded data removed]",
      "text/plain": [
       "<Figure size 432x288 with 1 Axes>"
      ]
     },
     "metadata": {
      "needs_background": "light"
     },
     "output_type": "display_data"
    },
    {
     "name": "stdout",
     "output_type": "stream",
     "text": [
      "This graph is showing the relationship between latitude and maximum temperature. This graph shows that temperatures tend to be higher closer to the equator. \n"
     ]
    }
   ],
   "source": [
    "x_values = weather_data['Lat']\n",
    "y_values = weather_data['Max Temp']\n",
    "\n",
    "plt.scatter(x_values, y_values, marker=\"o\", facecolors=\"blue\",\n",
    "           edgecolors =\"black\")\n",
    "\n",
    "plt.title('City Latitude vs. Max Temperature')\n",
    "plt.xlabel('Latitude')\n",
    "plt.ylabel('Max Temperature (C)')\n",
    "plt.savefig(\"Images/LatvsTemp.png\")\n",
    "plt.show()\n",
    "\n",
    "print(\"This graph is showing the relationship between latitude and maximum temperature. This graph shows that temperatures tend to be higher closer to the equator. \")"
   ]
  },
  {
   "cell_type": "markdown",
   "metadata": {},
   "source": [
    "## Latitude vs. Humidity Plot"
   ]
  },
  {
   "cell_type": "code",
   "execution_count": 73,
   "metadata": {},
   "outputs": [
    {
     "data": {
      "image/png": "[encoded data removed]",
      "text/plain": [
       "<Figure size 432x288 with 1 Axes>"
      ]
     },
     "metadata": {
      "needs_background": "light"
     },
     "output_type": "display_data"
    },
    {
     "name": "stdout",
     "output_type": "stream",
     "text": [
      "This graph is showing the relationship between latitude and humidity. This graph shows that there is not a strong relationship between latitude and humidity.\n"
     ]
    }
   ],
   "source": [
    "x_values = weather_data['Lat']\n",
    "y_values = weather_data['Humidity']\n",
    "\n",
    "plt.scatter(x_values, y_values, marker=\"o\", facecolors=\"blue\",\n",
    "           edgecolors =\"black\")\n",
    "\n",
    "plt.title('City Latitude vs. Humidity')\n",
    "plt.xlabel('Latitude')\n",
    "plt.ylabel('Humidity')\n",
    "plt.savefig(\"Images/LatvsHumidity.png\")\n",
    "plt.show()\n",
    "print(\"This graph is showing the relationship between latitude and humidity. This graph shows that there is not a strong relationship between latitude and humidity.\")"
   ]
  },
  {
   "cell_type": "markdown",
   "metadata": {},
   "source": [
    "## Latitude vs. Cloudiness Plot"
   ]
  },
  {
   "cell_type": "code",
   "execution_count": 74,
   "metadata": {},
   "outputs": [
    {
     "data": {
      "image/png": "[encoded data removed]",
      "text/plain": [
       "<Figure size 432x288 with 1 Axes>"
      ]
     },
     "metadata": {
      "needs_background": "light"
     },
     "output_type": "display_data"
    },
    {
     "name": "stdout",
     "output_type": "stream",
     "text": [
      "This graph is showing the relationship between latitude and cloudiness. This graph shows that there is not a strong relationship between latitude and cloudiness.\n"
     ]
    }
   ],
   "source": [
    "x_values = weather_data['Lat']\n",
    "y_values = weather_data['Cloudiness']\n",
    "\n",
    "plt.scatter(x_values, y_values, marker=\"o\", facecolors=\"blue\",\n",
    "           edgecolors =\"black\")\n",
    "\n",
    "plt.title('City Latitude vs. Cloudiness')\n",
    "plt.xlabel('Latitude')\n",
    "plt.ylabel('Cloudiness')\n",
    "plt.savefig(\"Images/LatvsClouds.png\")\n",
    "plt.show()\n",
    "print(\"This graph is showing the relationship between latitude and cloudiness. This graph shows that there is not a strong relationship between latitude and cloudiness.\")"
   ]
  },
  {
   "cell_type": "markdown",
   "metadata": {},
   "source": [
    "## Latitude vs. Wind Speed Plot"
   ]
  },
  {
   "cell_type": "code",
   "execution_count": 75,
   "metadata": {},
   "outputs": [
    {
     "data": {
      "image/png": "[encoded data removed]",
      "text/plain": [
       "<Figure size 432x288 with 1 Axes>"
      ]
     },
     "metadata": {
      "needs_background": "light"
     },
     "output_type": "display_data"
    },
    {
     "name": "stdout",
     "output_type": "stream",
     "text": [
      "This graph is showing the relationship between latitude and wind speed. This graph shows that there is not a strong relationship between latitude and wind speed.\n"
     ]
    }
   ],
   "source": [
    "x_values = weather_data['Lat']\n",
    "y_values = weather_data['Wind Speed']\n",
    "\n",
    "plt.scatter(x_values, y_values, marker=\"o\", facecolors=\"blue\",\n",
    "           edgecolors =\"black\")\n",
    "\n",
    "plt.title('City Latitude vs. Wind Speed')\n",
    "plt.xlabel('Latitude')\n",
    "plt.ylabel('Wind Speed')\n",
    "plt.savefig(\"Images/LatvsWind.png\")\n",
    "plt.show()\n",
    "print(\"This graph is showing the relationship between latitude and wind speed. This graph shows that there is not a strong relationship between latitude and wind speed.\")"
   ]
  },
  {
   "cell_type": "markdown",
   "metadata": {},
   "source": [
    "## Linear Regression"
   ]
  },
  {
   "cell_type": "code",
   "execution_count": null,
   "metadata": {},
   "outputs": [],
   "source": []
  },
  {
   "cell_type": "markdown",
   "metadata": {},
   "source": [
    "####  Northern Hemisphere - Max Temp vs. Latitude Linear Regression"
   ]
  },
  {
   "cell_type": "code",
   "execution_count": 76,
   "metadata": {},
   "outputs": [
    {
     "name": "stdout",
     "output_type": "stream",
     "text": [
      "The r-squared is: 0.75732879389356\n"
     ]
    },
    {
     "data": {
      "image/png": "[encoded data removed]",
      "text/plain": [
       "<Figure size 432x288 with 1 Axes>"
      ]
     },
     "metadata": {
      "needs_background": "light"
     },
     "output_type": "display_data"
    },
    {
     "name": "stdout",
     "output_type": "stream",
     "text": [
      "There is a strong relationship between latitude and max temperature in the Northern Hemisphere -- as the latitude approaches 0 (the equator) temperature goes up.\n"
     ]
    }
   ],
   "source": [
    "northern = pd.DataFrame(weather_data.loc[weather_data['Lat'] >= 0])\n",
    "\n",
    "# Print out the r-squared value along with the plot.\n",
    "x_values = northern['Lat']\n",
    "y_values = northern['Max Temp']\n",
    "(slope, intercept, rvalue, pvalue, stderr) = linregress(x_values, y_values)\n",
    "regress_values = x_values * slope + intercept\n",
    "line_eq = \"y = \" + str(round(slope,2)) + \"x + \" + str(round(intercept,2))\n",
    "plt.scatter(x_values, y_values, marker=\"o\", facecolors=\"blue\",\n",
    "           edgecolors =\"black\")\n",
    "plt.plot(x_values,regress_values,\"r-\")\n",
    "plt.annotate(line_eq,(1,3),fontsize=15,color=\"red\")\n",
    "plt.title('Max Temperature vs. Latitude in the Northern Hemisphere')\n",
    "plt.xlabel('Latitude')\n",
    "plt.ylabel('Max Temperature (C)')\n",
    "print(f\"The r-squared is: {rvalue**2}\")\n",
    "\n",
    "plt.savefig(\"Images/NorthernTemp.png\")\n",
    "plt.show()\n",
    "print(\"There is a strong relationship between latitude and max temperature in the Northern Hemisphere -- as the latitude approaches 0 (the equator) temperature goes up.\")"
   ]
  },
  {
   "cell_type": "markdown",
   "metadata": {},
   "source": [
    "####  Southern Hemisphere - Max Temp vs. Latitude Linear Regression"
   ]
  },
  {
   "cell_type": "code",
   "execution_count": 77,
   "metadata": {},
   "outputs": [
    {
     "name": "stdout",
     "output_type": "stream",
     "text": [
      "The r-squared is: 0.2637929923285559\n"
     ]
    },
    {
     "data": {
      "image/png": "[encoded data removed]",
      "text/plain": [
       "<Figure size 432x288 with 1 Axes>"
      ]
     },
     "metadata": {
      "needs_background": "light"
     },
     "output_type": "display_data"
    },
    {
     "name": "stdout",
     "output_type": "stream",
     "text": [
      "There is a weaker relationship between latitude and max temperature in the Southern Hemisphere -- less than 50%.\n"
     ]
    }
   ],
   "source": [
    "southern = pd.DataFrame(weather_data.loc[weather_data['Lat'] < 0])\n",
    "\n",
    "# Print out the r-squared value along with the plot.\n",
    "x_values = southern['Lat']\n",
    "y_values = southern['Max Temp']\n",
    "(slope, intercept, rvalue, pvalue, stderr) = linregress(x_values, y_values)\n",
    "regress_values = x_values * slope + intercept\n",
    "line_eq = \"y = \" + str(round(slope,2)) + \"x + \" + str(round(intercept,2))\n",
    "plt.scatter(x_values, y_values, marker=\"o\", facecolors=\"blue\",\n",
    "           edgecolors =\"black\")\n",
    "plt.plot(x_values,regress_values,\"r-\")\n",
    "plt.annotate(line_eq,(1,3),fontsize=15,color=\"red\")\n",
    "plt.title('Max Temperature vs. Latitude in the Southern Hemisphere')\n",
    "plt.xlabel('Latitude')\n",
    "plt.ylabel('Max Temperature (C)')\n",
    "print(f\"The r-squared is: {rvalue**2}\")\n",
    "\n",
    "plt.savefig(\"Images/SouthernTemp.png\")\n",
    "plt.show()\n",
    "print(\"There is a weaker relationship between latitude and max temperature in the Southern Hemisphere -- less than 50%.\")"
   ]
  },
  {
   "cell_type": "markdown",
   "metadata": {},
   "source": [
    "####  Northern Hemisphere - Humidity (%) vs. Latitude Linear Regression"
   ]
  },
  {
   "cell_type": "code",
   "execution_count": 78,
   "metadata": {},
   "outputs": [
    {
     "name": "stdout",
     "output_type": "stream",
     "text": [
      "The r-squared is: 0.07110854588516513\n"
     ]
    },
    {
     "data": {
      "image/png": "[encoded data removed]",
      "text/plain": [
       "<Figure size 432x288 with 1 Axes>"
      ]
     },
     "metadata": {
      "needs_background": "light"
     },
     "output_type": "display_data"
    },
    {
     "name": "stdout",
     "output_type": "stream",
     "text": [
      "There is a a no relationship between latitude and humidity in the Northern Hemisphere.\n"
     ]
    }
   ],
   "source": [
    "northern = pd.DataFrame(weather_data.loc[weather_data['Lat'] >= 0])\n",
    "\n",
    "# Print out the r-squared value along with the plot.\n",
    "x_values = northern['Lat']\n",
    "y_values = northern['Humidity']\n",
    "(slope, intercept, rvalue, pvalue, stderr) = linregress(x_values, y_values)\n",
    "regress_values = x_values * slope + intercept\n",
    "line_eq = \"y = \" + str(round(slope,2)) + \"x + \" + str(round(intercept,2))\n",
    "plt.scatter(x_values, y_values, marker=\"o\", facecolors=\"blue\",\n",
    "           edgecolors =\"black\")\n",
    "plt.plot(x_values,regress_values,\"r-\")\n",
    "plt.annotate(line_eq,(1,3),fontsize=15,color=\"red\")\n",
    "plt.title('Humidity vs. Latitude in the Northern Hemisphere')\n",
    "plt.xlabel('Latitude')\n",
    "plt.ylabel('Humidity')\n",
    "print(f\"The r-squared is: {rvalue**2}\")\n",
    "\n",
    "plt.savefig(\"Images/NorthernHumidity.png\")\n",
    "plt.show()\n",
    "print(\"There is a a no relationship between latitude and humidity in the Northern Hemisphere.\")"
   ]
  },
  {
   "cell_type": "markdown",
   "metadata": {},
   "source": [
    "####  Southern Hemisphere - Humidity (%) vs. Latitude Linear Regression"
   ]
  },
  {
   "cell_type": "code",
   "execution_count": 79,
   "metadata": {},
   "outputs": [
    {
     "name": "stdout",
     "output_type": "stream",
     "text": [
      "The r-squared is: 0.033164519806202705\n"
     ]
    },
    {
     "data": {
      "image/png": "[encoded data removed]",
      "text/plain": [
       "<Figure size 432x288 with 1 Axes>"
      ]
     },
     "metadata": {
      "needs_background": "light"
     },
     "output_type": "display_data"
    },
    {
     "name": "stdout",
     "output_type": "stream",
     "text": [
      "There is a no relationship between latitude and humidity in the Southern Hemisphere.\n"
     ]
    }
   ],
   "source": [
    "southern = pd.DataFrame(weather_data.loc[weather_data['Lat'] < 0])\n",
    "\n",
    "# Print out the r-squared value along with the plot.\n",
    "x_values = southern['Lat']\n",
    "y_values = southern['Humidity']\n",
    "(slope, intercept, rvalue, pvalue, stderr) = linregress(x_values, y_values)\n",
    "regress_values = x_values * slope + intercept\n",
    "line_eq = \"y = \" + str(round(slope,2)) + \"x + \" + str(round(intercept,2))\n",
    "plt.scatter(x_values, y_values, marker=\"o\", facecolors=\"blue\",\n",
    "           edgecolors =\"black\")\n",
    "plt.plot(x_values,regress_values,\"r-\")\n",
    "plt.annotate(line_eq,(1,3),fontsize=15,color=\"red\")\n",
    "plt.title('Humidity vs. Latitude in the Southern Hemisphere')\n",
    "plt.xlabel('Latitude')\n",
    "plt.ylabel('Humidity')\n",
    "print(f\"The r-squared is: {rvalue**2}\")\n",
    "\n",
    "plt.savefig(\"Images/SouthernHumidity.png\")\n",
    "plt.show()\n",
    "print(\"There is a no relationship between latitude and humidity in the Southern Hemisphere.\")\n"
   ]
  },
  {
   "cell_type": "markdown",
   "metadata": {},
   "source": [
    "####  Northern Hemisphere - Cloudiness (%) vs. Latitude Linear Regression"
   ]
  },
  {
   "cell_type": "code",
   "execution_count": 80,
   "metadata": {},
   "outputs": [
    {
     "name": "stdout",
     "output_type": "stream",
     "text": [
      "The r-squared is: 0.019618720455276364\n"
     ]
    },
    {
     "data": {
      "image/png": "[encoded data removed]",
      "text/plain": [
       "<Figure size 432x288 with 1 Axes>"
      ]
     },
     "metadata": {
      "needs_background": "light"
     },
     "output_type": "display_data"
    },
    {
     "name": "stdout",
     "output_type": "stream",
     "text": [
      "There is no relationship between latitude and cloudiness in the Northern Hemisphere.\n"
     ]
    }
   ],
   "source": [
    "northern = pd.DataFrame(weather_data.loc[weather_data['Lat'] >= 0])\n",
    "\n",
    "# Print out the r-squared value along with the plot.\n",
    "x_values = northern['Lat']\n",
    "y_values = northern['Cloudiness']\n",
    "(slope, intercept, rvalue, pvalue, stderr) = linregress(x_values, y_values)\n",
    "regress_values = x_values * slope + intercept\n",
    "line_eq = \"y = \" + str(round(slope,2)) + \"x + \" + str(round(intercept,2))\n",
    "plt.scatter(x_values, y_values, marker=\"o\", facecolors=\"blue\",\n",
    "           edgecolors =\"black\")\n",
    "plt.plot(x_values,regress_values,\"r-\")\n",
    "plt.annotate(line_eq,(1,3),fontsize=15,color=\"red\")\n",
    "plt.title('Cloudiness vs. Latitude in the Northern Hemisphere')\n",
    "plt.xlabel('Latitude')\n",
    "plt.ylabel('Cloudiness')\n",
    "print(f\"The r-squared is: {rvalue**2}\")\n",
    "\n",
    "plt.savefig(\"Images/NothernClouds.png\")\n",
    "plt.show()\n",
    "print(\"There is no relationship between latitude and cloudiness in the Northern Hemisphere.\")"
   ]
  },
  {
   "cell_type": "markdown",
   "metadata": {},
   "source": [
    "####  Southern Hemisphere - Cloudiness (%) vs. Latitude Linear Regression"
   ]
  },
  {
   "cell_type": "code",
   "execution_count": 81,
   "metadata": {},
   "outputs": [
    {
     "name": "stdout",
     "output_type": "stream",
     "text": [
      "The r-squared is: 0.16591369745863943\n"
     ]
    },
    {
     "data": {
      "image/png": "[encoded data removed]",
      "text/plain": [
       "<Figure size 432x288 with 1 Axes>"
      ]
     },
     "metadata": {
      "needs_background": "light"
     },
     "output_type": "display_data"
    },
    {
     "name": "stdout",
     "output_type": "stream",
     "text": [
      "There is a no relationship between latitude and cloudiness in the Southern Hemisphere.\n"
     ]
    }
   ],
   "source": [
    "southern = pd.DataFrame(weather_data.loc[weather_data['Lat'] < 0])\n",
    "\n",
    "# Print out the r-squared value along with the plot.\n",
    "x_values = southern['Lat']\n",
    "y_values = southern['Cloudiness']\n",
    "(slope, intercept, rvalue, pvalue, stderr) = linregress(x_values, y_values)\n",
    "regress_values = x_values * slope + intercept\n",
    "line_eq = \"y = \" + str(round(slope,2)) + \"x + \" + str(round(intercept,2))\n",
    "plt.scatter(x_values, y_values, marker=\"o\", facecolors=\"blue\",\n",
    "           edgecolors =\"black\")\n",
    "plt.plot(x_values,regress_values,\"r-\")\n",
    "plt.annotate(line_eq,(1,3),fontsize=15,color=\"red\")\n",
    "plt.title('Cloudiness vs. Latitude in the Southern Hemisphere')\n",
    "plt.xlabel('Latitude')\n",
    "plt.ylabel('Cloudiness')\n",
    "print(f\"The r-squared is: {rvalue**2}\")\n",
    "\n",
    "plt.savefig(\"Images/SouthernClouds.png\")\n",
    "plt.show()\n",
    "print(\"There is a no relationship between latitude and cloudiness in the Southern Hemisphere.\")"
   ]
  },
  {
   "cell_type": "markdown",
   "metadata": {},
   "source": [
    "####  Northern Hemisphere - Wind Speed (mph) vs. Latitude Linear Regression"
   ]
  },
  {
   "cell_type": "code",
   "execution_count": 82,
   "metadata": {},
   "outputs": [
    {
     "name": "stdout",
     "output_type": "stream",
     "text": [
      "The r-squared is: 0.002301726419214457\n"
     ]
    },
    {
     "data": {
      "image/png": "[encoded data removed]",
      "text/plain": [
       "<Figure size 432x288 with 1 Axes>"
      ]
     },
     "metadata": {
      "needs_background": "light"
     },
     "output_type": "display_data"
    },
    {
     "name": "stdout",
     "output_type": "stream",
     "text": [
      "There is no relationship between latitude and wind speed in the Northern Hemisphere.\n"
     ]
    }
   ],
   "source": [
    "northern = pd.DataFrame(weather_data.loc[weather_data['Lat'] >= 0])\n",
    "\n",
    "# Print out the r-squared value along with the plot.\n",
    "x_values = northern['Lat']\n",
    "y_values = northern['Wind Speed']\n",
    "(slope, intercept, rvalue, pvalue, stderr) = linregress(x_values, y_values)\n",
    "regress_values = x_values * slope + intercept\n",
    "line_eq = \"y = \" + str(round(slope,2)) + \"x + \" + str(round(intercept,2))\n",
    "plt.scatter(x_values, y_values, marker=\"o\", facecolors=\"blue\",\n",
    "           edgecolors =\"black\")\n",
    "plt.plot(x_values,regress_values,\"r-\")\n",
    "plt.annotate(line_eq,(1,3),fontsize=15,color=\"red\")\n",
    "plt.title('Wind Speed vs. Latitude in the Northern Hemisphere')\n",
    "plt.xlabel('Latitude')\n",
    "plt.ylabel('Wind Speed')\n",
    "print(f\"The r-squared is: {rvalue**2}\")\n",
    "\n",
    "plt.savefig(\"Images/NorthernWind.png\")\n",
    "plt.show()\n",
    "print(\"There is no relationship between latitude and wind speed in the Northern Hemisphere.\")"
   ]
  },
  {
   "cell_type": "markdown",
   "metadata": {},
   "source": [
    "####  Southern Hemisphere - Wind Speed (mph) vs. Latitude Linear Regression"
   ]
  },
  {
   "cell_type": "code",
   "execution_count": 83,
   "metadata": {},
   "outputs": [
    {
     "name": "stdout",
     "output_type": "stream",
     "text": [
      "The r-squared is: 0.017403154713793164\n"
     ]
    },
    {
     "data": {
      "image/png": "[encoded data removed]",
      "text/plain": [
       "<Figure size 432x288 with 1 Axes>"
      ]
     },
     "metadata": {
      "needs_background": "light"
     },
     "output_type": "display_data"
    },
    {
     "name": "stdout",
     "output_type": "stream",
     "text": [
      "There is no relationship between latitude and win speed in the Southern Hemisphere.\n"
     ]
    }
   ],
   "source": [
    "southern = pd.DataFrame(weather_data.loc[weather_data['Lat'] < 0])\n",
    "\n",
    "# Print out the r-squared value along with the plot.\n",
    "x_values = southern['Lat']\n",
    "y_values = southern['Wind Speed']\n",
    "(slope, intercept, rvalue, pvalue, stderr) = linregress(x_values, y_values)\n",
    "regress_values = x_values * slope + intercept\n",
    "line_eq = \"y = \" + str(round(slope,2)) + \"x + \" + str(round(intercept,2))\n",
    "plt.scatter(x_values, y_values, marker=\"o\", facecolors=\"blue\",\n",
    "           edgecolors =\"black\")\n",
    "plt.plot(x_values,regress_values,\"r-\")\n",
    "plt.annotate(line_eq,(1,3),fontsize=15,color=\"red\")\n",
    "plt.title('Wind Speed vs. Latitude in the Southern Hemisphere')\n",
    "plt.xlabel('Latitude')\n",
    "plt.ylabel('Wind Speed')\n",
    "print(f\"The r-squared is: {rvalue**2}\")\n",
    "\n",
    "plt.savefig(\"Images/SouthernWind.png\")\n",
    "plt.show()\n",
    "print(\"There is no relationship between latitude and win speed in the Southern Hemisphere.\")\n"
   ]
  },
  {
   "cell_type": "code",
   "execution_count": null,
   "metadata": {},
   "outputs": [],
   "source": []
  }
 ],
 "metadata": {
  "anaconda-cloud": {},
  "kernel_info": {
   "name": "python3"
  },
  "kernelspec": {
   "display_name": "Python 3",
   "language": "python",
   "name": "python3"
  },
  "language_info": {
   "codemirror_mode": {
    "name": "ipython",
    "version": 3
   },
   "file_extension": ".py",
   "mimetype": "text/x-python",
   "name": "python",
   "nbconvert_exporter": "python",
   "pygments_lexer": "ipython3",
   "version": "3.8.3"
  },
  "latex_envs": {
   "LaTeX_envs_menu_present": true,
   "autoclose": false,
   "autocomplete": true,
   "bibliofile": "biblio.bib",
   "cite_by": "apalike",
   "current_citInitial": 1,
   "eqLabelWithNumbers": true,
   "eqNumInitial": 1,
   "hotkeys": {
    "equation": "Ctrl-E",
    "itemize": "Ctrl-I"
   },
   "labels_anchors": false,
   "latex_user_defs": false,
   "report_style_numbering": false,
   "user_envs_cfg": false
  },
  "nteract": {
   "version": "0.12.3"
  }
 },
 "nbformat": 4,
 "nbformat_minor": 2
}
